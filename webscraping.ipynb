{
 "cells": [
  {
   "cell_type": "markdown",
   "id": "189dcebe",
   "metadata": {},
   "source": [
    "# Webscraping\n",
    "\n",
    "Author: Engelbert Ehret (GitHub: [ehrete](https://github.com/Ehrete)), Adrian Weiss (GitHub: [SacrumDeus](https://github.com/SacrumDeus))\n",
    "\n",
    "This part describes the webscraping process to retrieve the data from data source *stepstone*. There are several items which are scraped:\n",
    "* Stepstone results for a given job (e.g. Data Scientist: https://www.stepstone.de/5/ergebnisliste.html?what=Data%20Scientist)\n",
    "* Stepstone job description (e.g. Data Scientist: https://www.stepstone.de/stellenangebote--Data-Scientist-m-f-d-Muenchen-80335-IU-Internationale-Hochschule--7256289-inline.html)\n",
    "* Stepstone company description (e.g. IU Internationale Hochschule: https://www.stepstone.de/cmp/de/IU-Internationale-Hochschule-97654/?intcid=Button_listing_company-card_company-logo)"
   ]
  },
  {
   "cell_type": "markdown",
   "id": "436b0e19",
   "metadata": {},
   "source": [
    "There are several packages and functions used in this part. Those are listed below:"
   ]
  },
  {
   "cell_type": "code",
   "execution_count": 5,
   "id": "1755b46a",
   "metadata": {},
   "outputs": [],
   "source": [
    "# packages\n",
    "import pandas as pd\n",
    "from pymongo import MongoClient\n",
    "\n",
    "# custom functions\n",
    "import webscraperFunctions as crawler"
   ]
  },
  {
   "cell_type": "markdown",
   "id": "2a5fa82b",
   "metadata": {},
   "source": [
    "## Scrape the search results\n",
    "\n",
    "We have several jobs, listed below, for which we want to extract data.\n",
    "\n",
    "Jobs:\n",
    "* Data Scientist\n",
    "* Data Engineer\n",
    "* Data Analyst\n",
    "* [...]\n",
    "\n",
    "Stepstone creates a custom URL for each search requests with a structurized pattern. There are keys, which need to be passed to the request:\n",
    "* `what`: job, e.g. \"Data%20Scientist\" (translate *spaces* to *%20*)\n",
    "* `of`: paging, for first request not necessary, for further results necessary. Increment by 25 to retrieve results for next page\n",
    "\n",
    "No other parameters are required to get the data from this list.\n",
    "\n",
    "Structure of search request\n",
    "> `https://www.stepstone.de/5/ergebnisliste.html?what=<what>&of=<of>`\n",
    "\n",
    "Displays page 1 for searching job \"Data Scientist\":\n",
    "> `https://www.stepstone.de/5/ergebnisliste.html?what=Data%20Scientist`\n",
    "\n",
    "Displays page 2 for searching job \"Data Scientist\":\n",
    "> `https://www.stepstone.de/5/ergebnisliste.html?what=Data%20Scientist&of=25`\n",
    "\n",
    "First, we need to define, which job titles we want to find:"
   ]
  },
  {
   "cell_type": "code",
   "execution_count": 6,
   "id": "f86adfcb",
   "metadata": {},
   "outputs": [],
   "source": [
    "# lets define a list with all jobs to crawl\n",
    "jobs = [\"Data Scientist\"]\n",
    "        \n",
    "        #\"Data Engineer\",\n",
    "        # \"Data Analyst\"]"
   ]
  },
  {
   "cell_type": "markdown",
   "id": "77294a66",
   "metadata": {},
   "source": [
    "After we defined the list with jobs, we want to crawl, we call the crawler itself, passing as argument the `jobTitle` (e.g. \"Data Scientist\").\n",
    "\n",
    "First, the function creates some variables, which are required to crawl the website:\n",
    "\n",
    "* jobTitleEncoded: This variable is an encoded string of job (`Data Scientist` -> `Data%20Scientist`)\n",
    "* numberOfItems: There are a fixed number of items of each results page\n",
    "* url: The URL of each results page is generated dynamically due processing\n",
    "\n",
    "After we defined the variables, the total number of results have to determined.\n",
    "\n",
    "![Total results of job search](pictures/total-results-stepstone.png)\n",
    "\n",
    "The number of results are provided by an element on each page. The number of results are stored in an element (`<span>`) with an unique class `at-facet-header-total-results`.\n",
    "\n",
    "```html\n",
    "<span class=\"at-facet-header-total-results\">1.186</span>\n",
    "```\n",
    "\n",
    "Afterwards the complete page is crawled by an function (which is used for each further page (page 2, page 3, ...)), which extracts some data from each results item and stores it in an dictionary. The dictionaries are appended into a list, which is returned from function.\n",
    "\n",
    "Example of data extracted for each results item: \n",
    "\n",
    "```python\n",
    "{\n",
    "    'id': '7863612',\n",
    "    'title': 'Data Scientist (m/f/x)',\n",
    "    'jobLink': '/stellenangebote--Data-Scientist-m-f-x-Muenchen-ZEISS--7863612-inline.html',\n",
    "    'company': 'ZEISS',\n",
    "    'companyLink': 'https://www.stepstone.de/cmp/de/zeiss-3427/jobs'\n",
    "}\n",
    "```"
   ]
  },
  {
   "cell_type": "code",
   "execution_count": 7,
   "id": "459b4481",
   "metadata": {},
   "outputs": [
    {
     "name": "stdout",
     "output_type": "stream",
     "text": [
      "[INFO] there are 1178 results for job: Data Scientist\n"
     ]
    }
   ],
   "source": [
    "# variables\n",
    "jobList = []\n",
    "\n",
    "# iterate through jobs\n",
    "for job in jobs:\n",
    "    try:\n",
    "        jobList.extend(crawler.initJobSearch(job))\n",
    "    except:\n",
    "        print(job)"
   ]
  },
  {
   "cell_type": "code",
   "execution_count": 8,
   "id": "e18e191b",
   "metadata": {},
   "outputs": [
    {
     "name": "stdout",
     "output_type": "stream",
     "text": [
      "There are 1157 items in total.\n"
     ]
    }
   ],
   "source": [
    "print(\"There are {0} items in total.\".format(len(jobList)))"
   ]
  },
  {
   "cell_type": "markdown",
   "id": "c5e50da8",
   "metadata": {},
   "source": [
    "After running this process we got a list with many items. This list is just a list of each results item, we got from searching and scraping.\n",
    "Those results must be verified to remove duplicates."
   ]
  },
  {
   "cell_type": "code",
   "execution_count": 9,
   "id": "79fbc800",
   "metadata": {},
   "outputs": [
    {
     "data": {
      "text/html": [
       "<div>\n",
       "<style scoped>\n",
       "    .dataframe tbody tr th:only-of-type {\n",
       "        vertical-align: middle;\n",
       "    }\n",
       "\n",
       "    .dataframe tbody tr th {\n",
       "        vertical-align: top;\n",
       "    }\n",
       "\n",
       "    .dataframe thead th {\n",
       "        text-align: right;\n",
       "    }\n",
       "</style>\n",
       "<table border=\"1\" class=\"dataframe\">\n",
       "  <thead>\n",
       "    <tr style=\"text-align: right;\">\n",
       "      <th></th>\n",
       "      <th>id</th>\n",
       "      <th>title</th>\n",
       "      <th>jobLink</th>\n",
       "      <th>company</th>\n",
       "      <th>companyLink</th>\n",
       "    </tr>\n",
       "  </thead>\n",
       "  <tbody>\n",
       "    <tr>\n",
       "      <th>0</th>\n",
       "      <td>7733373</td>\n",
       "      <td>Data Scientist (m/w/divers)</td>\n",
       "      <td>https://www.stepstone.de/stellenangebote--Data...</td>\n",
       "      <td>Nestlé Deutschland AG</td>\n",
       "      <td>https://www.stepstone.de/cmp/de/nestl%c3%a9-de...</td>\n",
       "    </tr>\n",
       "    <tr>\n",
       "      <th>1</th>\n",
       "      <td>7930448</td>\n",
       "      <td>Data Scientist / Analyst (m/w/d)</td>\n",
       "      <td>https://www.stepstone.de/stellenangebote--Data...</td>\n",
       "      <td>SPIEGEL-Verlag Rudolf Augstein GmbH &amp; Co. KG</td>\n",
       "      <td>https://www.stepstone.de/cmp/de/spiegel-verlag...</td>\n",
       "    </tr>\n",
       "    <tr>\n",
       "      <th>2</th>\n",
       "      <td>7916480</td>\n",
       "      <td>Data Scientist (m/w/d)</td>\n",
       "      <td>https://www.stepstone.de/stellenangebote--Data...</td>\n",
       "      <td>Atruvia AG</td>\n",
       "      <td>https://www.stepstone.de/cmp/de/atruvia-ag-275...</td>\n",
       "    </tr>\n",
       "    <tr>\n",
       "      <th>3</th>\n",
       "      <td>7928772</td>\n",
       "      <td>Data Scientist (m/w/d)</td>\n",
       "      <td>https://www.stepstone.de/stellenangebote--Data...</td>\n",
       "      <td>halloAnwalt GmbH &amp; Co. KG</td>\n",
       "      <td>https://www.stepstone.de/cmp/de/halloanwalt-gm...</td>\n",
       "    </tr>\n",
       "    <tr>\n",
       "      <th>4</th>\n",
       "      <td>7753406</td>\n",
       "      <td>Principal Data Scientist (m/w/d)</td>\n",
       "      <td>https://www.stepstone.de/stellenangebote--Prin...</td>\n",
       "      <td>ONE LOGIC GmbH</td>\n",
       "      <td>https://www.stepstone.de/cmp/de/one-logic-gmbh...</td>\n",
       "    </tr>\n",
       "    <tr>\n",
       "      <th>...</th>\n",
       "      <td>...</td>\n",
       "      <td>...</td>\n",
       "      <td>...</td>\n",
       "      <td>...</td>\n",
       "      <td>...</td>\n",
       "    </tr>\n",
       "    <tr>\n",
       "      <th>1152</th>\n",
       "      <td>7820351</td>\n",
       "      <td>Sales Manager Automation Solutions (m/f/d)</td>\n",
       "      <td>https://www.stepstone.de/stellenangebote--Sale...</td>\n",
       "      <td>cytena GmbH</td>\n",
       "      <td>https://www.stepstone.de/cmp/de/cytena-gmbh-15...</td>\n",
       "    </tr>\n",
       "    <tr>\n",
       "      <th>1153</th>\n",
       "      <td>7846707</td>\n",
       "      <td>Supply Chain Team Leader (m/f/d)</td>\n",
       "      <td>https://www.stepstone.de/stellenangebote--Supp...</td>\n",
       "      <td>Dispendix GmbH</td>\n",
       "      <td>https://www.stepstone.de/cmp/de/dispendix-gmbh...</td>\n",
       "    </tr>\n",
       "    <tr>\n",
       "      <th>1154</th>\n",
       "      <td>7810405</td>\n",
       "      <td>Product Manager Biopharma &amp; Single-Cell Clonin...</td>\n",
       "      <td>https://www.stepstone.de/stellenangebote--Prod...</td>\n",
       "      <td>cytena GmbH</td>\n",
       "      <td>https://www.stepstone.de/cmp/de/cytena-gmbh-15...</td>\n",
       "    </tr>\n",
       "    <tr>\n",
       "      <th>1155</th>\n",
       "      <td>7906323</td>\n",
       "      <td>Project Manager of the PUNCH4NFDI Consortium i...</td>\n",
       "      <td>https://www.stepstone.de/stellenangebote--Proj...</td>\n",
       "      <td>Deutsches Elektronen-Synchrotron DESY</td>\n",
       "      <td>https://www.stepstone.de/cmp/de/deutsches-elek...</td>\n",
       "    </tr>\n",
       "    <tr>\n",
       "      <th>1156</th>\n",
       "      <td>7835802</td>\n",
       "      <td>Lead of Pharmacovigilance Database Management ...</td>\n",
       "      <td>https://www.stepstone.de/stellenangebote--Lead...</td>\n",
       "      <td>Daiichi Sankyo Europe GmbH</td>\n",
       "      <td>https://www.stepstone.de/cmp/de/daiichi-sankyo...</td>\n",
       "    </tr>\n",
       "  </tbody>\n",
       "</table>\n",
       "<p>1155 rows × 5 columns</p>\n",
       "</div>"
      ],
      "text/plain": [
       "           id                                              title  \\\n",
       "0     7733373                        Data Scientist (m/w/divers)   \n",
       "1     7930448                   Data Scientist / Analyst (m/w/d)   \n",
       "2     7916480                             Data Scientist (m/w/d)   \n",
       "3     7928772                             Data Scientist (m/w/d)   \n",
       "4     7753406                   Principal Data Scientist (m/w/d)   \n",
       "...       ...                                                ...   \n",
       "1152  7820351         Sales Manager Automation Solutions (m/f/d)   \n",
       "1153  7846707                   Supply Chain Team Leader (m/f/d)   \n",
       "1154  7810405  Product Manager Biopharma & Single-Cell Clonin...   \n",
       "1155  7906323  Project Manager of the PUNCH4NFDI Consortium i...   \n",
       "1156  7835802  Lead of Pharmacovigilance Database Management ...   \n",
       "\n",
       "                                                jobLink  \\\n",
       "0     https://www.stepstone.de/stellenangebote--Data...   \n",
       "1     https://www.stepstone.de/stellenangebote--Data...   \n",
       "2     https://www.stepstone.de/stellenangebote--Data...   \n",
       "3     https://www.stepstone.de/stellenangebote--Data...   \n",
       "4     https://www.stepstone.de/stellenangebote--Prin...   \n",
       "...                                                 ...   \n",
       "1152  https://www.stepstone.de/stellenangebote--Sale...   \n",
       "1153  https://www.stepstone.de/stellenangebote--Supp...   \n",
       "1154  https://www.stepstone.de/stellenangebote--Prod...   \n",
       "1155  https://www.stepstone.de/stellenangebote--Proj...   \n",
       "1156  https://www.stepstone.de/stellenangebote--Lead...   \n",
       "\n",
       "                                           company  \\\n",
       "0                            Nestlé Deutschland AG   \n",
       "1     SPIEGEL-Verlag Rudolf Augstein GmbH & Co. KG   \n",
       "2                                       Atruvia AG   \n",
       "3                        halloAnwalt GmbH & Co. KG   \n",
       "4                                   ONE LOGIC GmbH   \n",
       "...                                            ...   \n",
       "1152                                   cytena GmbH   \n",
       "1153                                Dispendix GmbH   \n",
       "1154                                   cytena GmbH   \n",
       "1155         Deutsches Elektronen-Synchrotron DESY   \n",
       "1156                    Daiichi Sankyo Europe GmbH   \n",
       "\n",
       "                                            companyLink  \n",
       "0     https://www.stepstone.de/cmp/de/nestl%c3%a9-de...  \n",
       "1     https://www.stepstone.de/cmp/de/spiegel-verlag...  \n",
       "2     https://www.stepstone.de/cmp/de/atruvia-ag-275...  \n",
       "3     https://www.stepstone.de/cmp/de/halloanwalt-gm...  \n",
       "4     https://www.stepstone.de/cmp/de/one-logic-gmbh...  \n",
       "...                                                 ...  \n",
       "1152  https://www.stepstone.de/cmp/de/cytena-gmbh-15...  \n",
       "1153  https://www.stepstone.de/cmp/de/dispendix-gmbh...  \n",
       "1154  https://www.stepstone.de/cmp/de/cytena-gmbh-15...  \n",
       "1155  https://www.stepstone.de/cmp/de/deutsches-elek...  \n",
       "1156  https://www.stepstone.de/cmp/de/daiichi-sankyo...  \n",
       "\n",
       "[1155 rows x 5 columns]"
      ]
     },
     "execution_count": 9,
     "metadata": {},
     "output_type": "execute_result"
    }
   ],
   "source": [
    "# first -> convert it to dataframe\n",
    "dfJobList = pd.DataFrame(jobList)\n",
    "\n",
    "# drop duplicates by column id\n",
    "dfJobList = dfJobList.drop_duplicates(subset=[\"id\"])\n",
    "\n",
    "# now we got a pretty job list dataframe\n",
    "dfJobList"
   ]
  },
  {
   "cell_type": "markdown",
   "id": "b174661d",
   "metadata": {},
   "source": [
    "## Scrape the company profiles\n",
    "\n",
    "For further processing we want to extract the company profiles for each company.\n",
    "\n",
    "To achieve this, we only need distinct company values (or we will get many duplicates)."
   ]
  },
  {
   "cell_type": "code",
   "execution_count": 10,
   "id": "e323cdf0",
   "metadata": {},
   "outputs": [
    {
     "name": "stdout",
     "output_type": "stream",
     "text": [
      "There are 576 distinct companies.\n"
     ]
    }
   ],
   "source": [
    "# extract distinct companies\n",
    "dfCompanies = dfJobList.drop_duplicates(subset=[\"company\"])[[\"company\", \"companyLink\"]]\n",
    "\n",
    "# convert it to list\n",
    "companyList = dfCompanies.to_dict('records')\n",
    "\n",
    "# how many distinct companies did we get?\n",
    "print(\"There are {0} distinct companies.\".format(len(companyList)))"
   ]
  },
  {
   "cell_type": "markdown",
   "id": "b1a34864",
   "metadata": {},
   "source": [
    "Now we apply a function on each entry, which extracts the data from each company page given. This function tries to extract as much data as possible. Limits are given by each company description. If the advertising company provides an \"Über das Unternehmen\" (markred in red) area, we are going to crawl this about page. If not, we crawl at least the header of each company.\n",
    "\n",
    "![Highlighting \"About company\" link](pictures/company-crawling-about.png)\n",
    "\n",
    "If we are using the \"Über das Unternehmen\" link, there are much more information provided. If those page is not available, we can only extract data from the header are. In the picture below, the header area is marked in red. This are is shared between each area. If available, we are trying to extract the data, which are highlighted in green in the picture.\n",
    "\n",
    "![Extractable data](pictures/company-extractable-data.png)\n",
    "\n",
    "After executing the function, we get a dictionary returned, which is structurized as described below:\n",
    "\n",
    "```python\n",
    "{\n",
    "    'company': 'Generali Deutschland AG', \n",
    "    'linkJobs': 'https://www.stepstone.de/cmp/de/Bosch-Gruppe-2804/jobs.html', \n",
    "    'linkProfile': 'https://www.stepstone.de/cmp/de/Bosch-Gruppe-2804/uber-das-unternehmen.html#menu', \n",
    "    'id': '2804', \n",
    "    'sectors': [{'sectorId': 10000, 'name': 'Fahrzeugbau/-zulieferer'}, \n",
    "                {'sectorId': 21000, 'name': 'IT & Internet'}, \n",
    "                {'sectorId': 11000, 'name': 'Konsumgüter/Gebrauchsgüter'}], \n",
    "    'workers': '10,001+', \n",
    "    'homepage': 'http://www.bosch.de',\n",
    "    'about': ..., \n",
    "    'location': {\n",
    "        'street': 'Robert-Bosch-Platz', \n",
    "        'streetNumber': '1', \n",
    "        'postalCode': '70839', \n",
    "        'city': 'Gerlingen Schillerhöhe', \n",
    "        'country': 'DE'\n",
    "    }, \n",
    "    'rating': {\n",
    "        'overall': 2389, \n",
    "        'avgRating': 4.18555, \n",
    "        'participation': {\n",
    "            '1': 80, \n",
    "            '2': 136, \n",
    "            '3': 300, \n",
    "            '4': 829, \n",
    "            '5': 1044\n",
    "        }, \n",
    "        'subrating': {\n",
    "            'office': 4.11181, \n",
    "            'culturePeople': 4.14897, \n",
    "            'trainingDevelopment': 4.03582, \n",
    "            'workLifeBalance': 4.04646, \n",
    "            'career': 3.78281\n",
    "            }\n",
    "        }, \n",
    "        'json': {\n",
    "            'Header': { ... },\n",
    "            'Rating': { ... },\n",
    "            'Facts': { ... }\n",
    "        }\n",
    "}\n",
    "```\n",
    "\n",
    "This dictionary is appended to a list, which is stored later in MongoDb"
   ]
  },
  {
   "cell_type": "code",
   "execution_count": 11,
   "id": "60b74f8e",
   "metadata": {},
   "outputs": [
    {
     "name": "stdout",
     "output_type": "stream",
     "text": [
      "{'company': 'Versicherungskammer Bayern', 'companyLink': 'https://www.stepstone.de/cmp/de/versicherungskammer-bayern-55725/jobs'}\n",
      "{'company': 'Workwise GmbH', 'companyLink': 'https://www.stepstone.de/cmp/de/workwise-gmbh-191177/jobs'}\n",
      "{'company': 'ARRK Engineering GmbH', 'companyLink': 'https://www.stepstone.de/cmp/de/arrk-engineering-gmbh-2718/jobs'}\n",
      "{'company': '365FarmNet Group KGaA mbH & Co KG', 'companyLink': 'https://www.stepstone.de/cmp/de/365farmnet-group-kgaa-mbh-%26-co-kg-229183/jobs'}\n",
      "{'company': 'Generali Deutschland AG', 'companyLink': 'https://www.stepstone.de/cmp/de/generali-deutschland-ag-7012/jobs'}\n"
     ]
    }
   ],
   "source": [
    "# variables\n",
    "companyData = []\n",
    "\n",
    "# iterate through companies\n",
    "for company in companyList:\n",
    "    try:\n",
    "        companyData.append(crawler.getCompanyData(company))\n",
    "    except:\n",
    "        # items, occuring here have to processed manually. There are issues, which cause not han\n",
    "        print(company)"
   ]
  },
  {
   "cell_type": "markdown",
   "id": "c52eff59",
   "metadata": {},
   "source": [
    "Within the data, there is a field hidden, which categorizes the company by industrial sectors (e.g. Banking or Retail).\n",
    "\n",
    "Lets extract those data and create a dictionary. To achieve this, there is not that much code required."
   ]
  },
  {
   "cell_type": "code",
   "execution_count": 12,
   "id": "07511c7a",
   "metadata": {},
   "outputs": [],
   "source": [
    "sectorItems = []\n",
    "\n",
    "# get column sectors from company data\n",
    "sectors = pd.DataFrame(companyData)[[\"sectors\"]]\n",
    "\n",
    "# remove empty columns and duplicates\n",
    "sectors = sectors.dropna()\n",
    "\n",
    "# unfortunately the data are provided as string like '[{id: name}, {id: name}, ...]\n",
    "# to achieve this, we convert it to list\n",
    "sectors = sectors.to_dict(\"records\")\n",
    "\n",
    "# process every sector entry\n",
    "for sector in sectors:\n",
    "\n",
    "    # iterate over sector elements\n",
    "    for elem in sector[\"sectors\"]:\n",
    "\n",
    "        if elem not in sectorItems:\n",
    "            sectorItems.append(elem)"
   ]
  },
  {
   "cell_type": "markdown",
   "id": "92388780",
   "metadata": {},
   "source": [
    "Below are 5 examples displayes, which we extracted for sectors:"
   ]
  },
  {
   "cell_type": "code",
   "execution_count": 13,
   "id": "811f10b1",
   "metadata": {},
   "outputs": [
    {
     "name": "stdout",
     "output_type": "stream",
     "text": [
      "[{'sectorId': 3000, 'name': 'Nahrungs- & Genussmittel'}, {'sectorId': 6000, 'name': 'Medien (Film, Funk, TV, Verlage)'}, {'sectorId': 19001, 'name': 'Banken'}, {'sectorId': 21000, 'name': 'IT & Internet'}, {'sectorId': 31000, 'name': 'Sonstige Branchen'}]\n"
     ]
    }
   ],
   "source": [
    "print(sectorItems[:5])"
   ]
  },
  {
   "cell_type": "markdown",
   "id": "52fbda41",
   "metadata": {},
   "source": [
    "## Scrape the job ad\n",
    "\n",
    "After we collected all data from the companies who placed an job ad, we want to crawl the data for each job ad. There are several areas, we want to extract. Those are marked in the picture below.\n",
    "\n",
    "![Extractable data in job offering](pictures/job-extractable-data.png)\n",
    "\n",
    "Returned from this function is a dict, which is appended to a list. The structure of this job offer is described below:\n",
    "\n",
    "```python\n",
    "{\n",
    "    'id': '7562425', \n",
    "    'link': 'https://www.stepstone.de/stellenangebote--Data-Engineer-Computer-Vision-f-m-div-Leonberg-Bosch-Gruppe--7562425-inline.html', \n",
    "    'company': 'Bosch Gruppe', \n",
    "    'jobTitle': 'Data Engineer Computer Vision (f/m/div.)', \n",
    "    'location': {\n",
    "        'longitude': '9.1833000183105', \n",
    "        'latitude': '48.766700744629', \n",
    "        'address': 'Wiener Straße 42, 70469 Stuttgart, Germany'\n",
    "    }, \n",
    "    'contractType': 'Feste Anstellung', \n",
    "    'workType': 'Vollzeit', \n",
    "    'introduction': ..., \n",
    "    'tasks': ..., \n",
    "    'applicantProfile': ..., \n",
    "    'companyOffer': ..., \n",
    "    'benefits': [\n",
    "        'Vorsorgeuntersuchungen', \n",
    "        'Betriebliche Altersvorsorge', \n",
    "        'Sportaktivitäten', \n",
    "        'Flexible Arbeitszeiten', \n",
    "        'Fitnessangebote', \n",
    "        'Parkplatz', \n",
    "        'Mitarbeiterrabatte', \n",
    "        'Kantine', \n",
    "        'Kinderbetreuung', \n",
    "        'Betriebsarzt', \n",
    "        'Coaching', \n",
    "        'Homeoffice'\n",
    "    ], \n",
    "    'store': {\n",
    "        'header': <html>, \n",
    "        'introduction': <html>, \n",
    "        'tasks': <html>,\n",
    "        'applicantProfile': <html>, \n",
    "        'companyOffer': <html>, \n",
    "        'location': { ... }, \n",
    "        'benefits': [ ... ]\n",
    "    }\n",
    "}\n",
    "```\n",
    "\n",
    "There is no relevance to check for duplicates, because this happened after we extracted all job offerings for a distinct job title"
   ]
  },
  {
   "cell_type": "code",
   "execution_count": 14,
   "id": "d322a311",
   "metadata": {},
   "outputs": [],
   "source": [
    "# variables\n",
    "jobData = []\n",
    "\n",
    "# iterate through companies\n",
    "for job in jobList:\n",
    "    try:\n",
    "        jobData.append(crawler.getJobData(job[\"jobLink\"], job[\"id\"]))\n",
    "    except:\n",
    "        print(job)"
   ]
  },
  {
   "cell_type": "markdown",
   "id": "f4e40aec",
   "metadata": {},
   "source": [
    "Within the job detail data, there is a field, which could be interesting to investigate: *Job benefits*. To achieve this, we are going to extract this field from data to store it separatly.\n",
    "\n",
    "The data we gathered is going to be stored in a MongoDB which allows us to store structure less data. This is described in the next part."
   ]
  },
  {
   "cell_type": "code",
   "execution_count": 15,
   "id": "d421b725",
   "metadata": {},
   "outputs": [],
   "source": [
    "# variables\n",
    "benefits = []\n",
    "\n",
    "# iterate over jobs and extract benefits\n",
    "for job in jobData:\n",
    "\n",
    "    if job[\"benefits\"]:\n",
    "\n",
    "        for benefit in job[\"benefits\"]:\n",
    "\n",
    "            # append benefit to benefits list if benefit not already in benefits lis\n",
    "            if benefit not in benefits:\n",
    "                benefits.append(benefit)\n",
    "\n",
    "# convert list to dict\n",
    "benefits = [{\"benefit\": benefit} for benefit in benefits]"
   ]
  },
  {
   "cell_type": "markdown",
   "id": "03e68454",
   "metadata": {},
   "source": [
    "Those benefits are listed below:"
   ]
  },
  {
   "cell_type": "code",
   "execution_count": 16,
   "id": "3e74122a",
   "metadata": {},
   "outputs": [
    {
     "name": "stdout",
     "output_type": "stream",
     "text": [
      "[{'benefit': 'Betriebliche Altersvorsorge'}, {'benefit': 'Sportaktivitäten'}, {'benefit': 'Flexible Arbeitszeiten'}, {'benefit': 'Fitnessangebote'}, {'benefit': 'Firmenevents'}, {'benefit': 'Parkplatz'}, {'benefit': 'Mitarbeiterrabatte'}, {'benefit': 'Sabbatical'}, {'benefit': 'Kantine'}, {'benefit': 'Kinderbetreuung'}, {'benefit': 'Coaching'}, {'benefit': 'Homeoffice'}, {'benefit': 'Vorsorgeuntersuchungen'}, {'benefit': 'Essenszulage'}, {'benefit': 'Firmenhandy'}, {'benefit': 'Betriebsarzt'}, {'benefit': 'Aktienoptionen'}, {'benefit': 'Hunde erlaubt'}, {'benefit': 'Barrierefreiheit'}, {'benefit': 'Gute Verkehrsanbindung'}, {'benefit': 'Balkon'}, {'benefit': 'Mitarbeiter-Laptop'}, {'benefit': 'Studienförderung'}, {'benefit': 'Firmenwagen'}, {'benefit': 'Firmenticket'}, {'benefit': 'Tankkarte'}, {'benefit': 'Zusätzliche Urlaubstage'}, {'benefit': 'Kfz-/Reisezulage'}, {'benefit': 'Zahnvorsorge'}]\n"
     ]
    }
   ],
   "source": [
    "print(benefits)"
   ]
  },
  {
   "cell_type": "markdown",
   "id": "a8ef421b",
   "metadata": {},
   "source": [
    "## Store data in MongoDb"
   ]
  },
  {
   "cell_type": "markdown",
   "id": "b1c8d149",
   "metadata": {},
   "source": [
    "Let's connect first to the MongoDb and initialize the database and the collections.\n",
    "\n",
    "The database name will be `stepstone-data`. Unless the collections do not exist, we will create multiple collections to store data such as `companyData`, `benefits` or `sections`.\n",
    "\n",
    "MongoDb is hosted locally."
   ]
  },
  {
   "cell_type": "code",
   "execution_count": 17,
   "id": "05c3e3fb",
   "metadata": {},
   "outputs": [
    {
     "data": {
      "text/plain": [
       "<pymongo.results.InsertManyResult at 0x1eb9c60df00>"
      ]
     },
     "execution_count": 17,
     "metadata": {},
     "output_type": "execute_result"
    }
   ],
   "source": [
    "# connect to db\n",
    "client = MongoClient(\"mongodb://localhost:27017/\")\n",
    "\n",
    "# create/connect to database\n",
    "database = client[\"stepstone-data\"]\n",
    "\n",
    "# create/connect collections (do prevent duplicate data)\n",
    "dbBenefits = database[\"benefits\"]\n",
    "dbCompanies = database[\"companies\"]\n",
    "dbJobs = database[\"jobs\"]\n",
    "dbResults = database[\"results\"]\n",
    "dbSectors = database[\"sectors\"]\n",
    "\n",
    "# delete data if collection has data\n",
    "if dbBenefits.count_documents({}) > 0:\n",
    "    dbBenefits.delete_many({})\n",
    "if dbCompanies.count_documents({}) > 0:\n",
    "    dbCompanies.delete_many({})\n",
    "if dbJobs.count_documents({}) > 0:\n",
    "    dbJobs.deleteMany({})\n",
    "if dbResults.count_documents({}) > 0:\n",
    "    dbResults.deleteMany({})\n",
    "if dbSectors.count_documents({}) > 0:\n",
    "    dbSectors.delete_many({})\n",
    "\n",
    "# store data\n",
    "dbBenefits.insert_many(benefits)\n",
    "dbCompanies.insert_many(companyData)\n",
    "dbJobs.insert_many(jobData)\n",
    "dbResults.insert_many(jobList)\n",
    "dbSectors.insert_many(sectorItems)"
   ]
  }
 ],
 "metadata": {
  "kernelspec": {
   "display_name": "Python 3 (ipykernel)",
   "language": "python",
   "name": "python3"
  },
  "language_info": {
   "codemirror_mode": {
    "name": "ipython",
    "version": 3
   },
   "file_extension": ".py",
   "mimetype": "text/x-python",
   "name": "python",
   "nbconvert_exporter": "python",
   "pygments_lexer": "ipython3",
   "version": "3.10.2"
  },
  "toc": {
   "base_numbering": 1,
   "nav_menu": {},
   "number_sections": true,
   "sideBar": true,
   "skip_h1_title": false,
   "title_cell": "Table of Contents",
   "title_sidebar": "Contents",
   "toc_cell": false,
   "toc_position": {},
   "toc_section_display": true,
   "toc_window_display": true
  }
 },
 "nbformat": 4,
 "nbformat_minor": 5
}
