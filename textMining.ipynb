{
 "cells": [
  {
   "cell_type": "markdown",
   "id": "b129dce4",
   "metadata": {},
   "source": [
    "# Objective"
   ]
  },
  {
   "cell_type": "markdown",
   "id": "b9042491",
   "metadata": {},
   "source": [
    "Stepstone job offers contain different text areas. One area contains the **job profile (tasks)**, another the **applicant profile**."
   ]
  },
  {
   "cell_type": "markdown",
   "id": "0df5ede7",
   "metadata": {},
   "source": [
    "![content](pictures/contents.png)"
   ]
  },
  {
   "cell_type": "markdown",
   "id": "aad95fb2",
   "metadata": {},
   "source": [
    "The relevant content of the two **text areas** are extracted in this notebook. This is done with the help of text mining methods."
   ]
  },
  {
   "cell_type": "markdown",
   "id": "1419387a",
   "metadata": {},
   "source": [
    "# Preliminary activities"
   ]
  },
  {
   "cell_type": "markdown",
   "id": "45b98bd2",
   "metadata": {},
   "source": [
    "Before the text process can start, some preliminary work must be done."
   ]
  },
  {
   "cell_type": "markdown",
   "id": "98aa8477",
   "metadata": {},
   "source": [
    "First of all some packages need to be loaded. \n",
    "\n",
    "The module `textMiningFunctions` is a own module of this project. This module contains special text mining functions, which contain processes, that we need in this notebook for several times. The functions of our own module are based on functions and classes of the common textmining packages `nltk`, `HanTa` and `langdetect`."
   ]
  },
  {
   "cell_type": "code",
   "execution_count": 38,
   "id": "9ffce329",
   "metadata": {},
   "outputs": [],
   "source": [
    "import pandas as pd\n",
    "from pymongo import MongoClient\n",
    "import unicodedata\n",
    "\n",
    "# own text mining module\n",
    "import textMiningFunctions as tm\n",
    "\n",
    "# common text mining module\n",
    "import nltk\n",
    "from HanTa import HanoverTagger as ht\n",
    "import langdetect"
   ]
  },
  {
   "cell_type": "markdown",
   "id": "06323638",
   "metadata": {},
   "source": [
    "The next step is to change the display option of Panda's Data Frames to fully display the text in a cell."
   ]
  },
  {
   "cell_type": "code",
   "execution_count": 39,
   "id": "801a39c3",
   "metadata": {},
   "outputs": [],
   "source": [
    "pd.set_option(\"display.max_colwidth\", None)"
   ]
  },
  {
   "cell_type": "markdown",
   "id": "dba1419a",
   "metadata": {},
   "source": [
    "Then, a connection to the Mongo DB database `stepstone-data` is established."
   ]
  },
  {
   "cell_type": "code",
   "execution_count": 40,
   "id": "b251d581",
   "metadata": {},
   "outputs": [],
   "source": [
    "# connect to server\n",
    "client = MongoClient('mongodb://localhost:27017/')\n",
    "\n",
    "# selection of database\n",
    "db = client[\"stepstone-data\"]"
   ]
  },
  {
   "cell_type": "markdown",
   "id": "0d902e33",
   "metadata": {},
   "source": [
    "Now, the data is queried and stored in the Pandas data frame `jobDesc`. The fields `id` (external job id stepstone), `applicantProfile` and `tasks` are queried. The internal Mongo DB id (field `__id`) is omitted."
   ]
  },
  {
   "cell_type": "code",
   "execution_count": 41,
   "id": "32b1fa11",
   "metadata": {},
   "outputs": [
    {
     "data": {
      "text/html": [
       "<div>\n",
       "<style scoped>\n",
       "    .dataframe tbody tr th:only-of-type {\n",
       "        vertical-align: middle;\n",
       "    }\n",
       "\n",
       "    .dataframe tbody tr th {\n",
       "        vertical-align: top;\n",
       "    }\n",
       "\n",
       "    .dataframe thead th {\n",
       "        text-align: right;\n",
       "    }\n",
       "</style>\n",
       "<table border=\"1\" class=\"dataframe\">\n",
       "  <thead>\n",
       "    <tr style=\"text-align: right;\">\n",
       "      <th></th>\n",
       "      <th>jobId</th>\n",
       "      <th>tasks</th>\n",
       "      <th>applicantProfile</th>\n",
       "    </tr>\n",
       "  </thead>\n",
       "  <tbody>\n",
       "    <tr>\n",
       "      <th>0</th>\n",
       "      <td>7733373</td>\n",
       "      <td>sie implementieren sas vorhersageanalyse lösungen zusammen mit verschiedenen geschäftsbereichen sie stellen qualitativ hochwertige statistische prognosen zur verfügung und erleichtern damit eine schnellere effiziente kunden absatzplanung sie gewährleisten die genauigkeit und stabilität der prognosen mittels geeigneter statistischer verfahren und software lösungen und sorgen für eine kontinuierliche verbesserung von zuverlässigkeit und qualität der prognosen sie bieten ad hoc unterstützung bei prognose und analysefragestellungen mit dem schwerpunkt auf absatzentwicklung von vermarktungsmechaniken</td>\n",
       "      <td>sie haben ihr studium der mathematik statistik quantitative methoden mit erfolg abgeschlossen sie bringen praktische expertise als data analyst mit erfahrung in statistischen methoden z b predictive analytics time series data mining mit sie sind vertraut mit sql oder sas 4gl programmierung erfahrung mit r und oder phyton sind von vorteil sie verfügen über ausgeprägte analytische fähigkeiten sie sind teamfähig und bringen erste erfahrungen im projektmanagement mit sehr gute mündliche schriftliche kenntnisse in deutsch englisch runden ihr profil ab</td>\n",
       "    </tr>\n",
       "    <tr>\n",
       "      <th>1</th>\n",
       "      <td>7930448</td>\n",
       "      <td>analyse reporting in adobe analytics sowie die explorative analyse teils großer und diverser verhaltensdaten gehören zum täglichen werkzeugkasten gleichzeitig zeigt die auseinandersetzung mit herausforderungen in den bereichen data warehousing data science natürlicher sprachverarbeitung und maschinellem lernen die perspektiven für den bereich data science im spiegel auf du arbeitest dabei im interdisziplinären spiegel research team mit expert innen aus datenarchitektur der qualitativen und quantitativen nutzerforschung ab testing sowie ux research immer mit dem ziel verhalten sowie beweggründe und motivation unserer leser innen bestmöglich zu verstehen das subteam data science ist darin ein schlankes team das adobe analytics als seine hauptdatenquelle sieht und sich auf python und spark für data engineering und maschinelles lernen sowie r für die explorative analyse verlässt als cloud dienstleister haben wir microsoft azure im einsatz als infrastruktur zur webanalyse testing nutzen wir die adobe experience cloud unsere datenquellen sind dabei zahlreich und vielseitig und kommen insbesondere aus adobe analytics redaktionellen sowie vertrieblichen systemen an der schnittstelle zwischen research analysen daten technologie generierst du mehrwert für die spiegel gruppe dein schwerpunkt liegt dabei auf der analyse unserer webstatistikdaten und der weiterentwicklung unserer analytischen toolbox auf basis von python oder r damit zahlenkolonnen in anwendbare ergebnisse und spannende geschichten überführt werden können aufgrund deiner erfahrungen führst du analysen selbstständig durch und identifizierst gemeinsam mit anderen research kolleg innen produktmanager innen und leitenden redakteur innen potentielle testing produktentwicklungs oder data science anwendungsfälle du setzt analysen reportings im interface von adobe analytics auf und entwickelst eine skalierbare und stringente reportingstruktur mit dem data team du verwandelst verhaltens kunden sowie redaktionsdaten in aussagekräftige und anwendungsbezogene erkenntnisse und trägst auch zur konzeption und auswertung von komplexen a b tests daraus bei die aggregation von verschiedenen datenquellen um erstklassige datensätze bereitzustellen gehört zu deinem standardrepertoire du gestaltest das designs und den aufbau einer modernen analyse und datenarchitektur mit die den anforderungen eines datengetriebenes medienunternehmen entspricht und hilft den spiegel dateninformiert erfolgreich zu halten perspektivisch hast du lust dich gemeinsam mit uns in folgenden bereichen zu entwickeln anwendungen für maschinelles lernen über ihren gesamten lebenszyklus gestalten von der ideenfindung bis zum architekturdesign prototyping und integration in produktivsysteme du entwickelst und skalierst dabei empfehlung und ähnlichkeitsalgorithmen sowie klassifizierungs und vorhersagemodelle</td>\n",
       "      <td>du hast mindestens 2 jahre relevante erfahrung in der analyse von großen datenmengen sammeln können du kennst dich gut mit gängigen webanalysetools bevorzugt adobe analytics sowie mit datenvisualisierung datenzugriff automation und datenspeicherung aus du hast sehr gute kenntnisse in python oder r und hast auch schon im umfeld von microsoft azure gearbeitet du verfügst über fundierte methodenkenntnisse und praktische erfahrung statistik du hast die fähigkeit dir end to end datenlösungen vorzustellen und die richtigen prioritäten zu setzen offenheit dein wissen mit kolleg innen zu teilen und von anderen zu lernen bevorzugt aber nicht erforderlich praktische erfahrung mit überwachten und unüberwachten maschinellen lerntechniken kenntnisse in machine learning frameworks und cloudbasierten datenanalysetools kenntnisse in der softwareentwicklung erfahrungen mit big data anwendungen z b spark cloud plattformen aws azure google cloud und containerisierung docker kubernetes</td>\n",
       "    </tr>\n",
       "    <tr>\n",
       "      <th>2</th>\n",
       "      <td>7916480</td>\n",
       "      <td>du arbeitest an der strategischen neuausrichtung der atruvia ag im umfeld künstliche intelligenz und smart analytics und gestaltest so die zukunftsgerichtete transformation aktiv mit du entwickelst maßgeschneiderte data science und ki lösungen in python vom proof of concept bis hin zum operativen machine learning modell mit deinem fundierten wissen über die finanzdienstleistungsbranche sowie ki lösungen unterstützt du uns z b bei der automatisierung von bankinternen prozessen oder intelligenten datenverwertung hierbei arbeitest du an spannenden aufgaben in themengebieten wie z b vertriebsprognosen sowie dokumenten und spracherkennung du beschäftigst dich mit der aufbereitung und analyse von großen un strukturierten datenbeständen und entwickelst modelle in unterschiedlichen entwicklungsumgebungen du bist ansprechperson im bereich ki für die genossenschaftliche finanz gruppe und bindest unsere kunden im rahmen unserer agilen vorgehensweise aktiv mit ein du arbeitest in einem agilen crossfunktionalen arbeitsumfeld und bist bei den neusten entwicklungen der ki branche immer up to date</td>\n",
       "      <td>du hast ein abgeschlossenes studium der wirtschafts informatik mathematik physik oder eine vergleichbare qualifikation und verfügst idealerweise über mehrjährige berufserfahrung du kennst dich mit dem entwickeln von machine learning modellen sehr gut aus und besitzt hervorragende python kenntnisse idealerweise hast du erfahrungen in der datenaufbereitung mit spark oder ähnlichen frameworks du willst ki lösungen in einem interdisziplinär besetzten arbeitsumfeld entwickeln und teilst deine fachkenntnisse gerne mit teammitgliedern du hast eine selbstständige eigenverantwortliche und teamorientierte arbeitsweise die du projektintern sowie in anderen übergreifenden service und geschäftsfeldern einsetzt</td>\n",
       "    </tr>\n",
       "  </tbody>\n",
       "</table>\n",
       "</div>"
      ],
      "text/plain": [
       "     jobId  \\\n",
       "0  7733373   \n",
       "1  7930448   \n",
       "2  7916480   \n",
       "\n",
       "                                                                                                                                                                                                                                                                                                                                                                                                                                                                                                                                                                                                                                                                                                                                                                                                                                                                                                                                                                                                                                                                                                                                                                                                                                                                                                                                                                                                                                                                                                                                                                                                                                                                                                                                                                                                                                                                                                                                                                                                                                                                                                                                                                                                                                                                                                                                                                                                                                                                                                                                                                                                                                                                                                                                                                                                                                                                                                                                                                          tasks  \\\n",
       "0                                                                                                                                                                                                                                                                                                                                                                                                                                                                                                                                                                                                                                                                                                                                                                                                                                                                                                                                                                                                                                                                                                                                                                                                                                                                                                                                                                                                                                                                                                                                                                                                                                                                                                                                                                                                                                                                                                                                                                                                                                                                                                                                                                                                                                                                                                                                                    sie implementieren sas vorhersageanalyse lösungen zusammen mit verschiedenen geschäftsbereichen sie stellen qualitativ hochwertige statistische prognosen zur verfügung und erleichtern damit eine schnellere effiziente kunden absatzplanung sie gewährleisten die genauigkeit und stabilität der prognosen mittels geeigneter statistischer verfahren und software lösungen und sorgen für eine kontinuierliche verbesserung von zuverlässigkeit und qualität der prognosen sie bieten ad hoc unterstützung bei prognose und analysefragestellungen mit dem schwerpunkt auf absatzentwicklung von vermarktungsmechaniken   \n",
       "1  analyse reporting in adobe analytics sowie die explorative analyse teils großer und diverser verhaltensdaten gehören zum täglichen werkzeugkasten gleichzeitig zeigt die auseinandersetzung mit herausforderungen in den bereichen data warehousing data science natürlicher sprachverarbeitung und maschinellem lernen die perspektiven für den bereich data science im spiegel auf du arbeitest dabei im interdisziplinären spiegel research team mit expert innen aus datenarchitektur der qualitativen und quantitativen nutzerforschung ab testing sowie ux research immer mit dem ziel verhalten sowie beweggründe und motivation unserer leser innen bestmöglich zu verstehen das subteam data science ist darin ein schlankes team das adobe analytics als seine hauptdatenquelle sieht und sich auf python und spark für data engineering und maschinelles lernen sowie r für die explorative analyse verlässt als cloud dienstleister haben wir microsoft azure im einsatz als infrastruktur zur webanalyse testing nutzen wir die adobe experience cloud unsere datenquellen sind dabei zahlreich und vielseitig und kommen insbesondere aus adobe analytics redaktionellen sowie vertrieblichen systemen an der schnittstelle zwischen research analysen daten technologie generierst du mehrwert für die spiegel gruppe dein schwerpunkt liegt dabei auf der analyse unserer webstatistikdaten und der weiterentwicklung unserer analytischen toolbox auf basis von python oder r damit zahlenkolonnen in anwendbare ergebnisse und spannende geschichten überführt werden können aufgrund deiner erfahrungen führst du analysen selbstständig durch und identifizierst gemeinsam mit anderen research kolleg innen produktmanager innen und leitenden redakteur innen potentielle testing produktentwicklungs oder data science anwendungsfälle du setzt analysen reportings im interface von adobe analytics auf und entwickelst eine skalierbare und stringente reportingstruktur mit dem data team du verwandelst verhaltens kunden sowie redaktionsdaten in aussagekräftige und anwendungsbezogene erkenntnisse und trägst auch zur konzeption und auswertung von komplexen a b tests daraus bei die aggregation von verschiedenen datenquellen um erstklassige datensätze bereitzustellen gehört zu deinem standardrepertoire du gestaltest das designs und den aufbau einer modernen analyse und datenarchitektur mit die den anforderungen eines datengetriebenes medienunternehmen entspricht und hilft den spiegel dateninformiert erfolgreich zu halten perspektivisch hast du lust dich gemeinsam mit uns in folgenden bereichen zu entwickeln anwendungen für maschinelles lernen über ihren gesamten lebenszyklus gestalten von der ideenfindung bis zum architekturdesign prototyping und integration in produktivsysteme du entwickelst und skalierst dabei empfehlung und ähnlichkeitsalgorithmen sowie klassifizierungs und vorhersagemodelle   \n",
       "2                                                                                                                                                                                                                                                                                                                                                                                                                                                                                                                                                                                                                                                                                                                                                                                                                                                                                                                                                                                                                                                                                                                                                                                                                                                                                                                                                                                                                                                                                                                                                                                                                                                                                                                                                                                                                                    du arbeitest an der strategischen neuausrichtung der atruvia ag im umfeld künstliche intelligenz und smart analytics und gestaltest so die zukunftsgerichtete transformation aktiv mit du entwickelst maßgeschneiderte data science und ki lösungen in python vom proof of concept bis hin zum operativen machine learning modell mit deinem fundierten wissen über die finanzdienstleistungsbranche sowie ki lösungen unterstützt du uns z b bei der automatisierung von bankinternen prozessen oder intelligenten datenverwertung hierbei arbeitest du an spannenden aufgaben in themengebieten wie z b vertriebsprognosen sowie dokumenten und spracherkennung du beschäftigst dich mit der aufbereitung und analyse von großen un strukturierten datenbeständen und entwickelst modelle in unterschiedlichen entwicklungsumgebungen du bist ansprechperson im bereich ki für die genossenschaftliche finanz gruppe und bindest unsere kunden im rahmen unserer agilen vorgehensweise aktiv mit ein du arbeitest in einem agilen crossfunktionalen arbeitsumfeld und bist bei den neusten entwicklungen der ki branche immer up to date   \n",
       "\n",
       "                                                                                                                                                                                                                                                                                                                                                                                                                                                                                                                                                                                                                                                                                                                                                                                                                                                                                                                                                                                                       applicantProfile  \n",
       "0                                                                                                                                                                                                                                                                                                                                                                                                                                              sie haben ihr studium der mathematik statistik quantitative methoden mit erfolg abgeschlossen sie bringen praktische expertise als data analyst mit erfahrung in statistischen methoden z b predictive analytics time series data mining mit sie sind vertraut mit sql oder sas 4gl programmierung erfahrung mit r und oder phyton sind von vorteil sie verfügen über ausgeprägte analytische fähigkeiten sie sind teamfähig und bringen erste erfahrungen im projektmanagement mit sehr gute mündliche schriftliche kenntnisse in deutsch englisch runden ihr profil ab  \n",
       "1  du hast mindestens 2 jahre relevante erfahrung in der analyse von großen datenmengen sammeln können du kennst dich gut mit gängigen webanalysetools bevorzugt adobe analytics sowie mit datenvisualisierung datenzugriff automation und datenspeicherung aus du hast sehr gute kenntnisse in python oder r und hast auch schon im umfeld von microsoft azure gearbeitet du verfügst über fundierte methodenkenntnisse und praktische erfahrung statistik du hast die fähigkeit dir end to end datenlösungen vorzustellen und die richtigen prioritäten zu setzen offenheit dein wissen mit kolleg innen zu teilen und von anderen zu lernen bevorzugt aber nicht erforderlich praktische erfahrung mit überwachten und unüberwachten maschinellen lerntechniken kenntnisse in machine learning frameworks und cloudbasierten datenanalysetools kenntnisse in der softwareentwicklung erfahrungen mit big data anwendungen z b spark cloud plattformen aws azure google cloud und containerisierung docker kubernetes  \n",
       "2                                                                                                                                                                                                                                                                                    du hast ein abgeschlossenes studium der wirtschafts informatik mathematik physik oder eine vergleichbare qualifikation und verfügst idealerweise über mehrjährige berufserfahrung du kennst dich mit dem entwickeln von machine learning modellen sehr gut aus und besitzt hervorragende python kenntnisse idealerweise hast du erfahrungen in der datenaufbereitung mit spark oder ähnlichen frameworks du willst ki lösungen in einem interdisziplinär besetzten arbeitsumfeld entwickeln und teilst deine fachkenntnisse gerne mit teammitgliedern du hast eine selbstständige eigenverantwortliche und teamorientierte arbeitsweise die du projektintern sowie in anderen übergreifenden service und geschäftsfeldern einsetzt  "
      ]
     },
     "execution_count": 41,
     "metadata": {},
     "output_type": "execute_result"
    }
   ],
   "source": [
    "jobDesc = pd.DataFrame(list(db.pJobs.find({},{\"jobId\":1, \"tasks\":1, \"applicantProfile\":1, \"_id\":0})))\n",
    "\n",
    "# display top rows\n",
    "jobDesc.head(3)"
   ]
  },
  {
   "cell_type": "markdown",
   "id": "3792f5fa",
   "metadata": {},
   "source": [
    "The data frame contains applicant profiles in different languages. The text mining process is language dependent. Therefore, the language of all columns is detected by using the function `detectLanguage()` of the custom module `textMiningFunctions`. The language is stored in the new column `language`."
   ]
  },
  {
   "cell_type": "code",
   "execution_count": 42,
   "id": "73d528f4",
   "metadata": {},
   "outputs": [],
   "source": [
    "jobDesc[\"language\"] = (jobDesc[\"applicantProfile\"] + \" \" + jobDesc[\"tasks\"]).apply(tm.detectLanguage)"
   ]
  },
  {
   "cell_type": "markdown",
   "id": "991264c8",
   "metadata": {},
   "source": [
    "Next, all rows that are not in German or English are deleted."
   ]
  },
  {
   "cell_type": "code",
   "execution_count": 43,
   "id": "5c3b511f",
   "metadata": {},
   "outputs": [],
   "source": [
    "jobDesc = jobDesc[jobDesc[\"language\"].isin([\"de\",\"en\"])].copy()"
   ]
  },
  {
   "cell_type": "code",
   "execution_count": 44,
   "id": "cc373150",
   "metadata": {},
   "outputs": [
    {
     "data": {
      "text/html": [
       "<div>\n",
       "<style scoped>\n",
       "    .dataframe tbody tr th:only-of-type {\n",
       "        vertical-align: middle;\n",
       "    }\n",
       "\n",
       "    .dataframe tbody tr th {\n",
       "        vertical-align: top;\n",
       "    }\n",
       "\n",
       "    .dataframe thead th {\n",
       "        text-align: right;\n",
       "    }\n",
       "</style>\n",
       "<table border=\"1\" class=\"dataframe\">\n",
       "  <thead>\n",
       "    <tr style=\"text-align: right;\">\n",
       "      <th></th>\n",
       "      <th>jobId</th>\n",
       "      <th>tasks</th>\n",
       "      <th>applicantProfile</th>\n",
       "      <th>language</th>\n",
       "    </tr>\n",
       "  </thead>\n",
       "  <tbody>\n",
       "    <tr>\n",
       "      <th>0</th>\n",
       "      <td>7733373</td>\n",
       "      <td>sie implementieren sas vorhersageanalyse lösungen zusammen mit verschiedenen geschäftsbereichen sie stellen qualitativ hochwertige statistische prognosen zur verfügung und erleichtern damit eine schnellere effiziente kunden absatzplanung sie gewährleisten die genauigkeit und stabilität der prognosen mittels geeigneter statistischer verfahren und software lösungen und sorgen für eine kontinuierliche verbesserung von zuverlässigkeit und qualität der prognosen sie bieten ad hoc unterstützung bei prognose und analysefragestellungen mit dem schwerpunkt auf absatzentwicklung von vermarktungsmechaniken</td>\n",
       "      <td>sie haben ihr studium der mathematik statistik quantitative methoden mit erfolg abgeschlossen sie bringen praktische expertise als data analyst mit erfahrung in statistischen methoden z b predictive analytics time series data mining mit sie sind vertraut mit sql oder sas 4gl programmierung erfahrung mit r und oder phyton sind von vorteil sie verfügen über ausgeprägte analytische fähigkeiten sie sind teamfähig und bringen erste erfahrungen im projektmanagement mit sehr gute mündliche schriftliche kenntnisse in deutsch englisch runden ihr profil ab</td>\n",
       "      <td>de</td>\n",
       "    </tr>\n",
       "    <tr>\n",
       "      <th>1</th>\n",
       "      <td>7930448</td>\n",
       "      <td>analyse reporting in adobe analytics sowie die explorative analyse teils großer und diverser verhaltensdaten gehören zum täglichen werkzeugkasten gleichzeitig zeigt die auseinandersetzung mit herausforderungen in den bereichen data warehousing data science natürlicher sprachverarbeitung und maschinellem lernen die perspektiven für den bereich data science im spiegel auf du arbeitest dabei im interdisziplinären spiegel research team mit expert innen aus datenarchitektur der qualitativen und quantitativen nutzerforschung ab testing sowie ux research immer mit dem ziel verhalten sowie beweggründe und motivation unserer leser innen bestmöglich zu verstehen das subteam data science ist darin ein schlankes team das adobe analytics als seine hauptdatenquelle sieht und sich auf python und spark für data engineering und maschinelles lernen sowie r für die explorative analyse verlässt als cloud dienstleister haben wir microsoft azure im einsatz als infrastruktur zur webanalyse testing nutzen wir die adobe experience cloud unsere datenquellen sind dabei zahlreich und vielseitig und kommen insbesondere aus adobe analytics redaktionellen sowie vertrieblichen systemen an der schnittstelle zwischen research analysen daten technologie generierst du mehrwert für die spiegel gruppe dein schwerpunkt liegt dabei auf der analyse unserer webstatistikdaten und der weiterentwicklung unserer analytischen toolbox auf basis von python oder r damit zahlenkolonnen in anwendbare ergebnisse und spannende geschichten überführt werden können aufgrund deiner erfahrungen führst du analysen selbstständig durch und identifizierst gemeinsam mit anderen research kolleg innen produktmanager innen und leitenden redakteur innen potentielle testing produktentwicklungs oder data science anwendungsfälle du setzt analysen reportings im interface von adobe analytics auf und entwickelst eine skalierbare und stringente reportingstruktur mit dem data team du verwandelst verhaltens kunden sowie redaktionsdaten in aussagekräftige und anwendungsbezogene erkenntnisse und trägst auch zur konzeption und auswertung von komplexen a b tests daraus bei die aggregation von verschiedenen datenquellen um erstklassige datensätze bereitzustellen gehört zu deinem standardrepertoire du gestaltest das designs und den aufbau einer modernen analyse und datenarchitektur mit die den anforderungen eines datengetriebenes medienunternehmen entspricht und hilft den spiegel dateninformiert erfolgreich zu halten perspektivisch hast du lust dich gemeinsam mit uns in folgenden bereichen zu entwickeln anwendungen für maschinelles lernen über ihren gesamten lebenszyklus gestalten von der ideenfindung bis zum architekturdesign prototyping und integration in produktivsysteme du entwickelst und skalierst dabei empfehlung und ähnlichkeitsalgorithmen sowie klassifizierungs und vorhersagemodelle</td>\n",
       "      <td>du hast mindestens 2 jahre relevante erfahrung in der analyse von großen datenmengen sammeln können du kennst dich gut mit gängigen webanalysetools bevorzugt adobe analytics sowie mit datenvisualisierung datenzugriff automation und datenspeicherung aus du hast sehr gute kenntnisse in python oder r und hast auch schon im umfeld von microsoft azure gearbeitet du verfügst über fundierte methodenkenntnisse und praktische erfahrung statistik du hast die fähigkeit dir end to end datenlösungen vorzustellen und die richtigen prioritäten zu setzen offenheit dein wissen mit kolleg innen zu teilen und von anderen zu lernen bevorzugt aber nicht erforderlich praktische erfahrung mit überwachten und unüberwachten maschinellen lerntechniken kenntnisse in machine learning frameworks und cloudbasierten datenanalysetools kenntnisse in der softwareentwicklung erfahrungen mit big data anwendungen z b spark cloud plattformen aws azure google cloud und containerisierung docker kubernetes</td>\n",
       "      <td>de</td>\n",
       "    </tr>\n",
       "    <tr>\n",
       "      <th>2</th>\n",
       "      <td>7916480</td>\n",
       "      <td>du arbeitest an der strategischen neuausrichtung der atruvia ag im umfeld künstliche intelligenz und smart analytics und gestaltest so die zukunftsgerichtete transformation aktiv mit du entwickelst maßgeschneiderte data science und ki lösungen in python vom proof of concept bis hin zum operativen machine learning modell mit deinem fundierten wissen über die finanzdienstleistungsbranche sowie ki lösungen unterstützt du uns z b bei der automatisierung von bankinternen prozessen oder intelligenten datenverwertung hierbei arbeitest du an spannenden aufgaben in themengebieten wie z b vertriebsprognosen sowie dokumenten und spracherkennung du beschäftigst dich mit der aufbereitung und analyse von großen un strukturierten datenbeständen und entwickelst modelle in unterschiedlichen entwicklungsumgebungen du bist ansprechperson im bereich ki für die genossenschaftliche finanz gruppe und bindest unsere kunden im rahmen unserer agilen vorgehensweise aktiv mit ein du arbeitest in einem agilen crossfunktionalen arbeitsumfeld und bist bei den neusten entwicklungen der ki branche immer up to date</td>\n",
       "      <td>du hast ein abgeschlossenes studium der wirtschafts informatik mathematik physik oder eine vergleichbare qualifikation und verfügst idealerweise über mehrjährige berufserfahrung du kennst dich mit dem entwickeln von machine learning modellen sehr gut aus und besitzt hervorragende python kenntnisse idealerweise hast du erfahrungen in der datenaufbereitung mit spark oder ähnlichen frameworks du willst ki lösungen in einem interdisziplinär besetzten arbeitsumfeld entwickeln und teilst deine fachkenntnisse gerne mit teammitgliedern du hast eine selbstständige eigenverantwortliche und teamorientierte arbeitsweise die du projektintern sowie in anderen übergreifenden service und geschäftsfeldern einsetzt</td>\n",
       "      <td>de</td>\n",
       "    </tr>\n",
       "  </tbody>\n",
       "</table>\n",
       "</div>"
      ],
      "text/plain": [
       "     jobId  \\\n",
       "0  7733373   \n",
       "1  7930448   \n",
       "2  7916480   \n",
       "\n",
       "                                                                                                                                                                                                                                                                                                                                                                                                                                                                                                                                                                                                                                                                                                                                                                                                                                                                                                                                                                                                                                                                                                                                                                                                                                                                                                                                                                                                                                                                                                                                                                                                                                                                                                                                                                                                                                                                                                                                                                                                                                                                                                                                                                                                                                                                                                                                                                                                                                                                                                                                                                                                                                                                                                                                                                                                                                                                                                                                                                          tasks  \\\n",
       "0                                                                                                                                                                                                                                                                                                                                                                                                                                                                                                                                                                                                                                                                                                                                                                                                                                                                                                                                                                                                                                                                                                                                                                                                                                                                                                                                                                                                                                                                                                                                                                                                                                                                                                                                                                                                                                                                                                                                                                                                                                                                                                                                                                                                                                                                                                                                                    sie implementieren sas vorhersageanalyse lösungen zusammen mit verschiedenen geschäftsbereichen sie stellen qualitativ hochwertige statistische prognosen zur verfügung und erleichtern damit eine schnellere effiziente kunden absatzplanung sie gewährleisten die genauigkeit und stabilität der prognosen mittels geeigneter statistischer verfahren und software lösungen und sorgen für eine kontinuierliche verbesserung von zuverlässigkeit und qualität der prognosen sie bieten ad hoc unterstützung bei prognose und analysefragestellungen mit dem schwerpunkt auf absatzentwicklung von vermarktungsmechaniken   \n",
       "1  analyse reporting in adobe analytics sowie die explorative analyse teils großer und diverser verhaltensdaten gehören zum täglichen werkzeugkasten gleichzeitig zeigt die auseinandersetzung mit herausforderungen in den bereichen data warehousing data science natürlicher sprachverarbeitung und maschinellem lernen die perspektiven für den bereich data science im spiegel auf du arbeitest dabei im interdisziplinären spiegel research team mit expert innen aus datenarchitektur der qualitativen und quantitativen nutzerforschung ab testing sowie ux research immer mit dem ziel verhalten sowie beweggründe und motivation unserer leser innen bestmöglich zu verstehen das subteam data science ist darin ein schlankes team das adobe analytics als seine hauptdatenquelle sieht und sich auf python und spark für data engineering und maschinelles lernen sowie r für die explorative analyse verlässt als cloud dienstleister haben wir microsoft azure im einsatz als infrastruktur zur webanalyse testing nutzen wir die adobe experience cloud unsere datenquellen sind dabei zahlreich und vielseitig und kommen insbesondere aus adobe analytics redaktionellen sowie vertrieblichen systemen an der schnittstelle zwischen research analysen daten technologie generierst du mehrwert für die spiegel gruppe dein schwerpunkt liegt dabei auf der analyse unserer webstatistikdaten und der weiterentwicklung unserer analytischen toolbox auf basis von python oder r damit zahlenkolonnen in anwendbare ergebnisse und spannende geschichten überführt werden können aufgrund deiner erfahrungen führst du analysen selbstständig durch und identifizierst gemeinsam mit anderen research kolleg innen produktmanager innen und leitenden redakteur innen potentielle testing produktentwicklungs oder data science anwendungsfälle du setzt analysen reportings im interface von adobe analytics auf und entwickelst eine skalierbare und stringente reportingstruktur mit dem data team du verwandelst verhaltens kunden sowie redaktionsdaten in aussagekräftige und anwendungsbezogene erkenntnisse und trägst auch zur konzeption und auswertung von komplexen a b tests daraus bei die aggregation von verschiedenen datenquellen um erstklassige datensätze bereitzustellen gehört zu deinem standardrepertoire du gestaltest das designs und den aufbau einer modernen analyse und datenarchitektur mit die den anforderungen eines datengetriebenes medienunternehmen entspricht und hilft den spiegel dateninformiert erfolgreich zu halten perspektivisch hast du lust dich gemeinsam mit uns in folgenden bereichen zu entwickeln anwendungen für maschinelles lernen über ihren gesamten lebenszyklus gestalten von der ideenfindung bis zum architekturdesign prototyping und integration in produktivsysteme du entwickelst und skalierst dabei empfehlung und ähnlichkeitsalgorithmen sowie klassifizierungs und vorhersagemodelle   \n",
       "2                                                                                                                                                                                                                                                                                                                                                                                                                                                                                                                                                                                                                                                                                                                                                                                                                                                                                                                                                                                                                                                                                                                                                                                                                                                                                                                                                                                                                                                                                                                                                                                                                                                                                                                                                                                                                                    du arbeitest an der strategischen neuausrichtung der atruvia ag im umfeld künstliche intelligenz und smart analytics und gestaltest so die zukunftsgerichtete transformation aktiv mit du entwickelst maßgeschneiderte data science und ki lösungen in python vom proof of concept bis hin zum operativen machine learning modell mit deinem fundierten wissen über die finanzdienstleistungsbranche sowie ki lösungen unterstützt du uns z b bei der automatisierung von bankinternen prozessen oder intelligenten datenverwertung hierbei arbeitest du an spannenden aufgaben in themengebieten wie z b vertriebsprognosen sowie dokumenten und spracherkennung du beschäftigst dich mit der aufbereitung und analyse von großen un strukturierten datenbeständen und entwickelst modelle in unterschiedlichen entwicklungsumgebungen du bist ansprechperson im bereich ki für die genossenschaftliche finanz gruppe und bindest unsere kunden im rahmen unserer agilen vorgehensweise aktiv mit ein du arbeitest in einem agilen crossfunktionalen arbeitsumfeld und bist bei den neusten entwicklungen der ki branche immer up to date   \n",
       "\n",
       "                                                                                                                                                                                                                                                                                                                                                                                                                                                                                                                                                                                                                                                                                                                                                                                                                                                                                                                                                                                                       applicantProfile  \\\n",
       "0                                                                                                                                                                                                                                                                                                                                                                                                                                              sie haben ihr studium der mathematik statistik quantitative methoden mit erfolg abgeschlossen sie bringen praktische expertise als data analyst mit erfahrung in statistischen methoden z b predictive analytics time series data mining mit sie sind vertraut mit sql oder sas 4gl programmierung erfahrung mit r und oder phyton sind von vorteil sie verfügen über ausgeprägte analytische fähigkeiten sie sind teamfähig und bringen erste erfahrungen im projektmanagement mit sehr gute mündliche schriftliche kenntnisse in deutsch englisch runden ihr profil ab   \n",
       "1  du hast mindestens 2 jahre relevante erfahrung in der analyse von großen datenmengen sammeln können du kennst dich gut mit gängigen webanalysetools bevorzugt adobe analytics sowie mit datenvisualisierung datenzugriff automation und datenspeicherung aus du hast sehr gute kenntnisse in python oder r und hast auch schon im umfeld von microsoft azure gearbeitet du verfügst über fundierte methodenkenntnisse und praktische erfahrung statistik du hast die fähigkeit dir end to end datenlösungen vorzustellen und die richtigen prioritäten zu setzen offenheit dein wissen mit kolleg innen zu teilen und von anderen zu lernen bevorzugt aber nicht erforderlich praktische erfahrung mit überwachten und unüberwachten maschinellen lerntechniken kenntnisse in machine learning frameworks und cloudbasierten datenanalysetools kenntnisse in der softwareentwicklung erfahrungen mit big data anwendungen z b spark cloud plattformen aws azure google cloud und containerisierung docker kubernetes   \n",
       "2                                                                                                                                                                                                                                                                                    du hast ein abgeschlossenes studium der wirtschafts informatik mathematik physik oder eine vergleichbare qualifikation und verfügst idealerweise über mehrjährige berufserfahrung du kennst dich mit dem entwickeln von machine learning modellen sehr gut aus und besitzt hervorragende python kenntnisse idealerweise hast du erfahrungen in der datenaufbereitung mit spark oder ähnlichen frameworks du willst ki lösungen in einem interdisziplinär besetzten arbeitsumfeld entwickeln und teilst deine fachkenntnisse gerne mit teammitgliedern du hast eine selbstständige eigenverantwortliche und teamorientierte arbeitsweise die du projektintern sowie in anderen übergreifenden service und geschäftsfeldern einsetzt   \n",
       "\n",
       "  language  \n",
       "0       de  \n",
       "1       de  \n",
       "2       de  "
      ]
     },
     "execution_count": 44,
     "metadata": {},
     "output_type": "execute_result"
    }
   ],
   "source": [
    "jobDesc.head(3)"
   ]
  },
  {
   "cell_type": "markdown",
   "id": "6f0e3d9a",
   "metadata": {},
   "source": [
    "# Normalization"
   ]
  },
  {
   "cell_type": "markdown",
   "id": "c41935c7",
   "metadata": {},
   "source": [
    "The first step of the text mining process is called **normalization**. In this step all letters are converted into lowercase letters. This step is performed with the function `normalizeText()` of the module `textMiningFunctions`. This function has two arguments. The first represents the data frame, the second represents the column which the text is normalized in."
   ]
  },
  {
   "cell_type": "markdown",
   "id": "47dd6a5c",
   "metadata": {},
   "source": [
    "> **Note:** The text has already been normalized in the step data preprocessing. For the sake of completeness, this step is also performed in the text mining notebook."
   ]
  },
  {
   "cell_type": "code",
   "execution_count": 45,
   "id": "438a3b5f",
   "metadata": {},
   "outputs": [],
   "source": [
    "# normalize job tasks\n",
    "tm.normalizeText(jobDesc, \"tasks\")\n",
    "\n",
    "# normalize applicant profile\n",
    "tm.normalizeText(jobDesc, \"applicantProfile\")"
   ]
  },
  {
   "cell_type": "code",
   "execution_count": 46,
   "id": "57b2827d",
   "metadata": {},
   "outputs": [
    {
     "data": {
      "text/html": [
       "<div>\n",
       "<style scoped>\n",
       "    .dataframe tbody tr th:only-of-type {\n",
       "        vertical-align: middle;\n",
       "    }\n",
       "\n",
       "    .dataframe tbody tr th {\n",
       "        vertical-align: top;\n",
       "    }\n",
       "\n",
       "    .dataframe thead th {\n",
       "        text-align: right;\n",
       "    }\n",
       "</style>\n",
       "<table border=\"1\" class=\"dataframe\">\n",
       "  <thead>\n",
       "    <tr style=\"text-align: right;\">\n",
       "      <th></th>\n",
       "      <th>jobId</th>\n",
       "      <th>tasks</th>\n",
       "      <th>applicantProfile</th>\n",
       "      <th>language</th>\n",
       "    </tr>\n",
       "  </thead>\n",
       "  <tbody>\n",
       "    <tr>\n",
       "      <th>0</th>\n",
       "      <td>7733373</td>\n",
       "      <td>sie implementieren sas vorhersageanalyse lösungen zusammen mit verschiedenen geschäftsbereichen sie stellen qualitativ hochwertige statistische prognosen zur verfügung und erleichtern damit eine schnellere effiziente kunden absatzplanung sie gewährleisten die genauigkeit und stabilität der prognosen mittels geeigneter statistischer verfahren und software lösungen und sorgen für eine kontinuierliche verbesserung von zuverlässigkeit und qualität der prognosen sie bieten ad hoc unterstützung bei prognose und analysefragestellungen mit dem schwerpunkt auf absatzentwicklung von vermarktungsmechaniken</td>\n",
       "      <td>sie haben ihr studium der mathematik statistik quantitative methoden mit erfolg abgeschlossen sie bringen praktische expertise als data analyst mit erfahrung in statistischen methoden z b predictive analytics time series data mining mit sie sind vertraut mit sql oder sas 4gl programmierung erfahrung mit r und oder phyton sind von vorteil sie verfügen über ausgeprägte analytische fähigkeiten sie sind teamfähig und bringen erste erfahrungen im projektmanagement mit sehr gute mündliche schriftliche kenntnisse in deutsch englisch runden ihr profil ab</td>\n",
       "      <td>de</td>\n",
       "    </tr>\n",
       "    <tr>\n",
       "      <th>1</th>\n",
       "      <td>7930448</td>\n",
       "      <td>analyse reporting in adobe analytics sowie die explorative analyse teils großer und diverser verhaltensdaten gehören zum täglichen werkzeugkasten gleichzeitig zeigt die auseinandersetzung mit herausforderungen in den bereichen data warehousing data science natürlicher sprachverarbeitung und maschinellem lernen die perspektiven für den bereich data science im spiegel auf du arbeitest dabei im interdisziplinären spiegel research team mit expert innen aus datenarchitektur der qualitativen und quantitativen nutzerforschung ab testing sowie ux research immer mit dem ziel verhalten sowie beweggründe und motivation unserer leser innen bestmöglich zu verstehen das subteam data science ist darin ein schlankes team das adobe analytics als seine hauptdatenquelle sieht und sich auf python und spark für data engineering und maschinelles lernen sowie r für die explorative analyse verlässt als cloud dienstleister haben wir microsoft azure im einsatz als infrastruktur zur webanalyse testing nutzen wir die adobe experience cloud unsere datenquellen sind dabei zahlreich und vielseitig und kommen insbesondere aus adobe analytics redaktionellen sowie vertrieblichen systemen an der schnittstelle zwischen research analysen daten technologie generierst du mehrwert für die spiegel gruppe dein schwerpunkt liegt dabei auf der analyse unserer webstatistikdaten und der weiterentwicklung unserer analytischen toolbox auf basis von python oder r damit zahlenkolonnen in anwendbare ergebnisse und spannende geschichten überführt werden können aufgrund deiner erfahrungen führst du analysen selbstständig durch und identifizierst gemeinsam mit anderen research kolleg innen produktmanager innen und leitenden redakteur innen potentielle testing produktentwicklungs oder data science anwendungsfälle du setzt analysen reportings im interface von adobe analytics auf und entwickelst eine skalierbare und stringente reportingstruktur mit dem data team du verwandelst verhaltens kunden sowie redaktionsdaten in aussagekräftige und anwendungsbezogene erkenntnisse und trägst auch zur konzeption und auswertung von komplexen a b tests daraus bei die aggregation von verschiedenen datenquellen um erstklassige datensätze bereitzustellen gehört zu deinem standardrepertoire du gestaltest das designs und den aufbau einer modernen analyse und datenarchitektur mit die den anforderungen eines datengetriebenes medienunternehmen entspricht und hilft den spiegel dateninformiert erfolgreich zu halten perspektivisch hast du lust dich gemeinsam mit uns in folgenden bereichen zu entwickeln anwendungen für maschinelles lernen über ihren gesamten lebenszyklus gestalten von der ideenfindung bis zum architekturdesign prototyping und integration in produktivsysteme du entwickelst und skalierst dabei empfehlung und ähnlichkeitsalgorithmen sowie klassifizierungs und vorhersagemodelle</td>\n",
       "      <td>du hast mindestens 2 jahre relevante erfahrung in der analyse von großen datenmengen sammeln können du kennst dich gut mit gängigen webanalysetools bevorzugt adobe analytics sowie mit datenvisualisierung datenzugriff automation und datenspeicherung aus du hast sehr gute kenntnisse in python oder r und hast auch schon im umfeld von microsoft azure gearbeitet du verfügst über fundierte methodenkenntnisse und praktische erfahrung statistik du hast die fähigkeit dir end to end datenlösungen vorzustellen und die richtigen prioritäten zu setzen offenheit dein wissen mit kolleg innen zu teilen und von anderen zu lernen bevorzugt aber nicht erforderlich praktische erfahrung mit überwachten und unüberwachten maschinellen lerntechniken kenntnisse in machine learning frameworks und cloudbasierten datenanalysetools kenntnisse in der softwareentwicklung erfahrungen mit big data anwendungen z b spark cloud plattformen aws azure google cloud und containerisierung docker kubernetes</td>\n",
       "      <td>de</td>\n",
       "    </tr>\n",
       "  </tbody>\n",
       "</table>\n",
       "</div>"
      ],
      "text/plain": [
       "     jobId  \\\n",
       "0  7733373   \n",
       "1  7930448   \n",
       "\n",
       "                                                                                                                                                                                                                                                                                                                                                                                                                                                                                                                                                                                                                                                                                                                                                                                                                                                                                                                                                                                                                                                                                                                                                                                                                                                                                                                                                                                                                                                                                                                                                                                                                                                                                                                                                                                                                                                                                                                                                                                                                                                                                                                                                                                                                                                                                                                                                                                                                                                                                                                                                                                                                                                                                                                                                                                                                                                                                                                                                                          tasks  \\\n",
       "0                                                                                                                                                                                                                                                                                                                                                                                                                                                                                                                                                                                                                                                                                                                                                                                                                                                                                                                                                                                                                                                                                                                                                                                                                                                                                                                                                                                                                                                                                                                                                                                                                                                                                                                                                                                                                                                                                                                                                                                                                                                                                                                                                                                                                                                                                                                                                    sie implementieren sas vorhersageanalyse lösungen zusammen mit verschiedenen geschäftsbereichen sie stellen qualitativ hochwertige statistische prognosen zur verfügung und erleichtern damit eine schnellere effiziente kunden absatzplanung sie gewährleisten die genauigkeit und stabilität der prognosen mittels geeigneter statistischer verfahren und software lösungen und sorgen für eine kontinuierliche verbesserung von zuverlässigkeit und qualität der prognosen sie bieten ad hoc unterstützung bei prognose und analysefragestellungen mit dem schwerpunkt auf absatzentwicklung von vermarktungsmechaniken   \n",
       "1  analyse reporting in adobe analytics sowie die explorative analyse teils großer und diverser verhaltensdaten gehören zum täglichen werkzeugkasten gleichzeitig zeigt die auseinandersetzung mit herausforderungen in den bereichen data warehousing data science natürlicher sprachverarbeitung und maschinellem lernen die perspektiven für den bereich data science im spiegel auf du arbeitest dabei im interdisziplinären spiegel research team mit expert innen aus datenarchitektur der qualitativen und quantitativen nutzerforschung ab testing sowie ux research immer mit dem ziel verhalten sowie beweggründe und motivation unserer leser innen bestmöglich zu verstehen das subteam data science ist darin ein schlankes team das adobe analytics als seine hauptdatenquelle sieht und sich auf python und spark für data engineering und maschinelles lernen sowie r für die explorative analyse verlässt als cloud dienstleister haben wir microsoft azure im einsatz als infrastruktur zur webanalyse testing nutzen wir die adobe experience cloud unsere datenquellen sind dabei zahlreich und vielseitig und kommen insbesondere aus adobe analytics redaktionellen sowie vertrieblichen systemen an der schnittstelle zwischen research analysen daten technologie generierst du mehrwert für die spiegel gruppe dein schwerpunkt liegt dabei auf der analyse unserer webstatistikdaten und der weiterentwicklung unserer analytischen toolbox auf basis von python oder r damit zahlenkolonnen in anwendbare ergebnisse und spannende geschichten überführt werden können aufgrund deiner erfahrungen führst du analysen selbstständig durch und identifizierst gemeinsam mit anderen research kolleg innen produktmanager innen und leitenden redakteur innen potentielle testing produktentwicklungs oder data science anwendungsfälle du setzt analysen reportings im interface von adobe analytics auf und entwickelst eine skalierbare und stringente reportingstruktur mit dem data team du verwandelst verhaltens kunden sowie redaktionsdaten in aussagekräftige und anwendungsbezogene erkenntnisse und trägst auch zur konzeption und auswertung von komplexen a b tests daraus bei die aggregation von verschiedenen datenquellen um erstklassige datensätze bereitzustellen gehört zu deinem standardrepertoire du gestaltest das designs und den aufbau einer modernen analyse und datenarchitektur mit die den anforderungen eines datengetriebenes medienunternehmen entspricht und hilft den spiegel dateninformiert erfolgreich zu halten perspektivisch hast du lust dich gemeinsam mit uns in folgenden bereichen zu entwickeln anwendungen für maschinelles lernen über ihren gesamten lebenszyklus gestalten von der ideenfindung bis zum architekturdesign prototyping und integration in produktivsysteme du entwickelst und skalierst dabei empfehlung und ähnlichkeitsalgorithmen sowie klassifizierungs und vorhersagemodelle   \n",
       "\n",
       "                                                                                                                                                                                                                                                                                                                                                                                                                                                                                                                                                                                                                                                                                                                                                                                                                                                                                                                                                                                                       applicantProfile  \\\n",
       "0                                                                                                                                                                                                                                                                                                                                                                                                                                              sie haben ihr studium der mathematik statistik quantitative methoden mit erfolg abgeschlossen sie bringen praktische expertise als data analyst mit erfahrung in statistischen methoden z b predictive analytics time series data mining mit sie sind vertraut mit sql oder sas 4gl programmierung erfahrung mit r und oder phyton sind von vorteil sie verfügen über ausgeprägte analytische fähigkeiten sie sind teamfähig und bringen erste erfahrungen im projektmanagement mit sehr gute mündliche schriftliche kenntnisse in deutsch englisch runden ihr profil ab   \n",
       "1  du hast mindestens 2 jahre relevante erfahrung in der analyse von großen datenmengen sammeln können du kennst dich gut mit gängigen webanalysetools bevorzugt adobe analytics sowie mit datenvisualisierung datenzugriff automation und datenspeicherung aus du hast sehr gute kenntnisse in python oder r und hast auch schon im umfeld von microsoft azure gearbeitet du verfügst über fundierte methodenkenntnisse und praktische erfahrung statistik du hast die fähigkeit dir end to end datenlösungen vorzustellen und die richtigen prioritäten zu setzen offenheit dein wissen mit kolleg innen zu teilen und von anderen zu lernen bevorzugt aber nicht erforderlich praktische erfahrung mit überwachten und unüberwachten maschinellen lerntechniken kenntnisse in machine learning frameworks und cloudbasierten datenanalysetools kenntnisse in der softwareentwicklung erfahrungen mit big data anwendungen z b spark cloud plattformen aws azure google cloud und containerisierung docker kubernetes   \n",
       "\n",
       "  language  \n",
       "0       de  \n",
       "1       de  "
      ]
     },
     "execution_count": 46,
     "metadata": {},
     "output_type": "execute_result"
    }
   ],
   "source": [
    "jobDesc.head(2)"
   ]
  },
  {
   "cell_type": "markdown",
   "id": "9846f644",
   "metadata": {},
   "source": [
    "# Tokenization"
   ]
  },
  {
   "cell_type": "markdown",
   "id": "3d84c782",
   "metadata": {},
   "source": [
    "The next step is called **Tokenization**. In this step, the text is broken down into individual words, so-called **tokens**. \n",
    "\n",
    "This step is performed by using the `tokenizeText()` function of the `textMiningFunctions` module.  The first argument represents the data frame, the second represents the column which the text is tokenized in. The function `tokenizeText()` uses the `RegexpTokenizer` class of the Python package `nltk`."
   ]
  },
  {
   "cell_type": "code",
   "execution_count": 47,
   "id": "60ab82e3",
   "metadata": {},
   "outputs": [],
   "source": [
    "# tokenize job tasks\n",
    "tm.tokenizeText(jobDesc, \"tasks\")\n",
    "\n",
    "# tokenize applicant profile\n",
    "tm.tokenizeText(jobDesc, \"applicantProfile\")"
   ]
  },
  {
   "cell_type": "code",
   "execution_count": 48,
   "id": "d2d1f80d",
   "metadata": {},
   "outputs": [
    {
     "data": {
      "text/html": [
       "<div>\n",
       "<style scoped>\n",
       "    .dataframe tbody tr th:only-of-type {\n",
       "        vertical-align: middle;\n",
       "    }\n",
       "\n",
       "    .dataframe tbody tr th {\n",
       "        vertical-align: top;\n",
       "    }\n",
       "\n",
       "    .dataframe thead th {\n",
       "        text-align: right;\n",
       "    }\n",
       "</style>\n",
       "<table border=\"1\" class=\"dataframe\">\n",
       "  <thead>\n",
       "    <tr style=\"text-align: right;\">\n",
       "      <th></th>\n",
       "      <th>jobId</th>\n",
       "      <th>tasks</th>\n",
       "      <th>applicantProfile</th>\n",
       "      <th>language</th>\n",
       "    </tr>\n",
       "  </thead>\n",
       "  <tbody>\n",
       "    <tr>\n",
       "      <th>0</th>\n",
       "      <td>7733373</td>\n",
       "      <td>[sie, implementieren, sas, vorhersageanalyse, lösungen, zusammen, mit, verschiedenen, geschäftsbereichen, sie, stellen, qualitativ, hochwertige, statistische, prognosen, zur, verfügung, und, erleichtern, damit, eine, schnellere, effiziente, kunden, absatzplanung, sie, gewährleisten, die, genauigkeit, und, stabilität, der, prognosen, mittels, geeigneter, statistischer, verfahren, und, software, lösungen, und, sorgen, für, eine, kontinuierliche, verbesserung, von, zuverlässigkeit, und, qualität, der, prognosen, sie, bieten, ad, hoc, unterstützung, bei, prognose, und, analysefragestellungen, mit, dem, schwerpunkt, auf, absatzentwicklung, von, vermarktungsmechaniken]</td>\n",
       "      <td>[sie, haben, ihr, studium, der, mathematik, statistik, quantitative, methoden, mit, erfolg, abgeschlossen, sie, bringen, praktische, expertise, als, data, analyst, mit, erfahrung, in, statistischen, methoden, z, b, predictive, analytics, time, series, data, mining, mit, sie, sind, vertraut, mit, sql, oder, sas, 4gl, programmierung, erfahrung, mit, r, und, oder, phyton, sind, von, vorteil, sie, verfügen, über, ausgeprägte, analytische, fähigkeiten, sie, sind, teamfähig, und, bringen, erste, erfahrungen, im, projektmanagement, mit, sehr, gute, mündliche, schriftliche, kenntnisse, in, deutsch, englisch, runden, ihr, profil, ab]</td>\n",
       "      <td>de</td>\n",
       "    </tr>\n",
       "    <tr>\n",
       "      <th>1</th>\n",
       "      <td>7930448</td>\n",
       "      <td>[analyse, reporting, in, adobe, analytics, sowie, die, explorative, analyse, teils, großer, und, diverser, verhaltensdaten, gehören, zum, täglichen, werkzeugkasten, gleichzeitig, zeigt, die, auseinandersetzung, mit, herausforderungen, in, den, bereichen, data, warehousing, data, science, natürlicher, sprachverarbeitung, und, maschinellem, lernen, die, perspektiven, für, den, bereich, data, science, im, spiegel, auf, du, arbeitest, dabei, im, interdisziplinären, spiegel, research, team, mit, expert, innen, aus, datenarchitektur, der, qualitativen, und, quantitativen, nutzerforschung, ab, testing, sowie, ux, research, immer, mit, dem, ziel, verhalten, sowie, beweggründe, und, motivation, unserer, leser, innen, bestmöglich, zu, verstehen, das, subteam, data, science, ist, darin, ein, schlankes, team, das, adobe, analytics, als, seine, hauptdatenquelle, sieht, ...]</td>\n",
       "      <td>[du, hast, mindestens, 2, jahre, relevante, erfahrung, in, der, analyse, von, großen, datenmengen, sammeln, können, du, kennst, dich, gut, mit, gängigen, webanalysetools, bevorzugt, adobe, analytics, sowie, mit, datenvisualisierung, datenzugriff, automation, und, datenspeicherung, aus, du, hast, sehr, gute, kenntnisse, in, python, oder, r, und, hast, auch, schon, im, umfeld, von, microsoft, azure, gearbeitet, du, verfügst, über, fundierte, methodenkenntnisse, und, praktische, erfahrung, statistik, du, hast, die, fähigkeit, dir, end, to, end, datenlösungen, vorzustellen, und, die, richtigen, prioritäten, zu, setzen, offenheit, dein, wissen, mit, kolleg, innen, zu, teilen, und, von, anderen, zu, lernen, bevorzugt, aber, nicht, erforderlich, praktische, erfahrung, mit, überwachten, und, unüberwachten, ...]</td>\n",
       "      <td>de</td>\n",
       "    </tr>\n",
       "  </tbody>\n",
       "</table>\n",
       "</div>"
      ],
      "text/plain": [
       "     jobId  \\\n",
       "0  7733373   \n",
       "1  7930448   \n",
       "\n",
       "                                                                                                                                                                                                                                                                                                                                                                                                                                                                                                                                                                                                                                                                                                                                                                                                                                                                                                       tasks  \\\n",
       "0                                                                                                                                                                                                            [sie, implementieren, sas, vorhersageanalyse, lösungen, zusammen, mit, verschiedenen, geschäftsbereichen, sie, stellen, qualitativ, hochwertige, statistische, prognosen, zur, verfügung, und, erleichtern, damit, eine, schnellere, effiziente, kunden, absatzplanung, sie, gewährleisten, die, genauigkeit, und, stabilität, der, prognosen, mittels, geeigneter, statistischer, verfahren, und, software, lösungen, und, sorgen, für, eine, kontinuierliche, verbesserung, von, zuverlässigkeit, und, qualität, der, prognosen, sie, bieten, ad, hoc, unterstützung, bei, prognose, und, analysefragestellungen, mit, dem, schwerpunkt, auf, absatzentwicklung, von, vermarktungsmechaniken]   \n",
       "1  [analyse, reporting, in, adobe, analytics, sowie, die, explorative, analyse, teils, großer, und, diverser, verhaltensdaten, gehören, zum, täglichen, werkzeugkasten, gleichzeitig, zeigt, die, auseinandersetzung, mit, herausforderungen, in, den, bereichen, data, warehousing, data, science, natürlicher, sprachverarbeitung, und, maschinellem, lernen, die, perspektiven, für, den, bereich, data, science, im, spiegel, auf, du, arbeitest, dabei, im, interdisziplinären, spiegel, research, team, mit, expert, innen, aus, datenarchitektur, der, qualitativen, und, quantitativen, nutzerforschung, ab, testing, sowie, ux, research, immer, mit, dem, ziel, verhalten, sowie, beweggründe, und, motivation, unserer, leser, innen, bestmöglich, zu, verstehen, das, subteam, data, science, ist, darin, ein, schlankes, team, das, adobe, analytics, als, seine, hauptdatenquelle, sieht, ...]   \n",
       "\n",
       "                                                                                                                                                                                                                                                                                                                                                                                                                                                                                                                                                                                                                                                                                                                                                                                                                                 applicantProfile  \\\n",
       "0                                                                                                                                                                                        [sie, haben, ihr, studium, der, mathematik, statistik, quantitative, methoden, mit, erfolg, abgeschlossen, sie, bringen, praktische, expertise, als, data, analyst, mit, erfahrung, in, statistischen, methoden, z, b, predictive, analytics, time, series, data, mining, mit, sie, sind, vertraut, mit, sql, oder, sas, 4gl, programmierung, erfahrung, mit, r, und, oder, phyton, sind, von, vorteil, sie, verfügen, über, ausgeprägte, analytische, fähigkeiten, sie, sind, teamfähig, und, bringen, erste, erfahrungen, im, projektmanagement, mit, sehr, gute, mündliche, schriftliche, kenntnisse, in, deutsch, englisch, runden, ihr, profil, ab]   \n",
       "1  [du, hast, mindestens, 2, jahre, relevante, erfahrung, in, der, analyse, von, großen, datenmengen, sammeln, können, du, kennst, dich, gut, mit, gängigen, webanalysetools, bevorzugt, adobe, analytics, sowie, mit, datenvisualisierung, datenzugriff, automation, und, datenspeicherung, aus, du, hast, sehr, gute, kenntnisse, in, python, oder, r, und, hast, auch, schon, im, umfeld, von, microsoft, azure, gearbeitet, du, verfügst, über, fundierte, methodenkenntnisse, und, praktische, erfahrung, statistik, du, hast, die, fähigkeit, dir, end, to, end, datenlösungen, vorzustellen, und, die, richtigen, prioritäten, zu, setzen, offenheit, dein, wissen, mit, kolleg, innen, zu, teilen, und, von, anderen, zu, lernen, bevorzugt, aber, nicht, erforderlich, praktische, erfahrung, mit, überwachten, und, unüberwachten, ...]   \n",
       "\n",
       "  language  \n",
       "0       de  \n",
       "1       de  "
      ]
     },
     "execution_count": 48,
     "metadata": {},
     "output_type": "execute_result"
    }
   ],
   "source": [
    "jobDesc.head(2)"
   ]
  },
  {
   "cell_type": "markdown",
   "id": "6704728b",
   "metadata": {},
   "source": [
    "# Stopword removal"
   ]
  },
  {
   "cell_type": "markdown",
   "id": "772c83a8",
   "metadata": {},
   "source": [
    "The generated token lists in the last step contain stopwords (e.g. \"will\", \"or\", \"and\"). These words  do not contain valuable information, so the stopwords are deleted. This is done in this step.\n",
    "\n",
    "The stopword removal is performed by using the function `removeStopwords` of the package `textMiningFunctions`. This function, unlike the functions in the previous two steps, has the additional argument language, because the stopwords are language dependent. The function uses the language dependent stopword lists of the `nltk` package."
   ]
  },
  {
   "cell_type": "code",
   "execution_count": 49,
   "id": "71c2e4ae",
   "metadata": {},
   "outputs": [],
   "source": [
    "tm.removeStopwords(jobDesc, \"tasks\", \"language\")\n",
    "tm.removeStopwords(jobDesc, \"applicantProfile\", \"language\")"
   ]
  },
  {
   "cell_type": "code",
   "execution_count": 50,
   "id": "d3fbbc6d",
   "metadata": {},
   "outputs": [
    {
     "data": {
      "text/html": [
       "<div>\n",
       "<style scoped>\n",
       "    .dataframe tbody tr th:only-of-type {\n",
       "        vertical-align: middle;\n",
       "    }\n",
       "\n",
       "    .dataframe tbody tr th {\n",
       "        vertical-align: top;\n",
       "    }\n",
       "\n",
       "    .dataframe thead th {\n",
       "        text-align: right;\n",
       "    }\n",
       "</style>\n",
       "<table border=\"1\" class=\"dataframe\">\n",
       "  <thead>\n",
       "    <tr style=\"text-align: right;\">\n",
       "      <th></th>\n",
       "      <th>jobId</th>\n",
       "      <th>tasks</th>\n",
       "      <th>applicantProfile</th>\n",
       "      <th>language</th>\n",
       "    </tr>\n",
       "  </thead>\n",
       "  <tbody>\n",
       "    <tr>\n",
       "      <th>0</th>\n",
       "      <td>7733373</td>\n",
       "      <td>[implementieren, sas, vorhersageanalyse, lösungen, zusammen, verschiedenen, geschäftsbereichen, stellen, qualitativ, hochwertige, statistische, prognosen, verfügung, erleichtern, schnellere, effiziente, kunden, absatzplanung, gewährleisten, genauigkeit, stabilität, prognosen, mittels, geeigneter, statistischer, verfahren, software, lösungen, sorgen, kontinuierliche, verbesserung, zuverlässigkeit, qualität, prognosen, bieten, ad, hoc, unterstützung, prognose, analysefragestellungen, schwerpunkt, absatzentwicklung, vermarktungsmechaniken]</td>\n",
       "      <td>[studium, mathematik, statistik, quantitative, methoden, erfolg, abgeschlossen, bringen, praktische, expertise, data, analyst, erfahrung, statistischen, methoden, z, b, predictive, analytics, time, series, data, mining, vertraut, sql, sas, 4gl, programmierung, erfahrung, r, phyton, vorteil, verfügen, ausgeprägte, analytische, fähigkeiten, teamfähig, bringen, erste, erfahrungen, projektmanagement, gute, mündliche, schriftliche, kenntnisse, deutsch, englisch, runden, profil, ab]</td>\n",
       "      <td>de</td>\n",
       "    </tr>\n",
       "    <tr>\n",
       "      <th>1</th>\n",
       "      <td>7930448</td>\n",
       "      <td>[analyse, reporting, adobe, analytics, sowie, explorative, analyse, teils, großer, diverser, verhaltensdaten, gehören, täglichen, werkzeugkasten, gleichzeitig, zeigt, auseinandersetzung, herausforderungen, bereichen, data, warehousing, data, science, natürlicher, sprachverarbeitung, maschinellem, lernen, perspektiven, bereich, data, science, spiegel, arbeitest, dabei, interdisziplinären, spiegel, research, team, expert, innen, datenarchitektur, qualitativen, quantitativen, nutzerforschung, ab, testing, sowie, ux, research, immer, ziel, verhalten, sowie, beweggründe, motivation, unserer, leser, innen, bestmöglich, verstehen, subteam, data, science, darin, schlankes, team, adobe, analytics, hauptdatenquelle, sieht, python, spark, data, engineering, maschinelles, lernen, sowie, r, explorative, analyse, verlässt, cloud, dienstleister, microsoft, azure, einsatz, infrastruktur, webanalyse, testing, nutzen, adobe, experience, cloud, datenquellen, dabei, zahlreich, vielseitig, kommen, insbesondere, adobe, ...]</td>\n",
       "      <td>[hast, mindestens, 2, jahre, relevante, erfahrung, analyse, großen, datenmengen, sammeln, kennst, gut, gängigen, webanalysetools, bevorzugt, adobe, analytics, sowie, datenvisualisierung, datenzugriff, automation, datenspeicherung, hast, gute, kenntnisse, python, r, hast, schon, umfeld, microsoft, azure, gearbeitet, verfügst, fundierte, methodenkenntnisse, praktische, erfahrung, statistik, hast, fähigkeit, end, to, end, datenlösungen, vorzustellen, richtigen, prioritäten, setzen, offenheit, wissen, kolleg, innen, teilen, lernen, bevorzugt, erforderlich, praktische, erfahrung, überwachten, unüberwachten, maschinellen, lerntechniken, kenntnisse, machine, learning, frameworks, cloudbasierten, datenanalysetools, kenntnisse, softwareentwicklung, erfahrungen, big, data, anwendungen, z, b, spark, cloud, plattformen, aws, azure, google, cloud, containerisierung, docker, kubernetes]</td>\n",
       "      <td>de</td>\n",
       "    </tr>\n",
       "  </tbody>\n",
       "</table>\n",
       "</div>"
      ],
      "text/plain": [
       "     jobId  \\\n",
       "0  7733373   \n",
       "1  7930448   \n",
       "\n",
       "                                                                                                                                                                                                                                                                                                                                                                                                                                                                                                                                                                                                                                                                                                                                                                                                                                                                                                                                                                                                                                                       tasks  \\\n",
       "0                                                                                                                                                                                                                                                                                                                                                                                                                                                                                             [implementieren, sas, vorhersageanalyse, lösungen, zusammen, verschiedenen, geschäftsbereichen, stellen, qualitativ, hochwertige, statistische, prognosen, verfügung, erleichtern, schnellere, effiziente, kunden, absatzplanung, gewährleisten, genauigkeit, stabilität, prognosen, mittels, geeigneter, statistischer, verfahren, software, lösungen, sorgen, kontinuierliche, verbesserung, zuverlässigkeit, qualität, prognosen, bieten, ad, hoc, unterstützung, prognose, analysefragestellungen, schwerpunkt, absatzentwicklung, vermarktungsmechaniken]   \n",
       "1  [analyse, reporting, adobe, analytics, sowie, explorative, analyse, teils, großer, diverser, verhaltensdaten, gehören, täglichen, werkzeugkasten, gleichzeitig, zeigt, auseinandersetzung, herausforderungen, bereichen, data, warehousing, data, science, natürlicher, sprachverarbeitung, maschinellem, lernen, perspektiven, bereich, data, science, spiegel, arbeitest, dabei, interdisziplinären, spiegel, research, team, expert, innen, datenarchitektur, qualitativen, quantitativen, nutzerforschung, ab, testing, sowie, ux, research, immer, ziel, verhalten, sowie, beweggründe, motivation, unserer, leser, innen, bestmöglich, verstehen, subteam, data, science, darin, schlankes, team, adobe, analytics, hauptdatenquelle, sieht, python, spark, data, engineering, maschinelles, lernen, sowie, r, explorative, analyse, verlässt, cloud, dienstleister, microsoft, azure, einsatz, infrastruktur, webanalyse, testing, nutzen, adobe, experience, cloud, datenquellen, dabei, zahlreich, vielseitig, kommen, insbesondere, adobe, ...]   \n",
       "\n",
       "                                                                                                                                                                                                                                                                                                                                                                                                                                                                                                                                                                                                                                                                                                                                                                                                                                                                                                        applicantProfile  \\\n",
       "0                                                                                                                                                                                                                                                                                                                                                                                                                      [studium, mathematik, statistik, quantitative, methoden, erfolg, abgeschlossen, bringen, praktische, expertise, data, analyst, erfahrung, statistischen, methoden, z, b, predictive, analytics, time, series, data, mining, vertraut, sql, sas, 4gl, programmierung, erfahrung, r, phyton, vorteil, verfügen, ausgeprägte, analytische, fähigkeiten, teamfähig, bringen, erste, erfahrungen, projektmanagement, gute, mündliche, schriftliche, kenntnisse, deutsch, englisch, runden, profil, ab]   \n",
       "1  [hast, mindestens, 2, jahre, relevante, erfahrung, analyse, großen, datenmengen, sammeln, kennst, gut, gängigen, webanalysetools, bevorzugt, adobe, analytics, sowie, datenvisualisierung, datenzugriff, automation, datenspeicherung, hast, gute, kenntnisse, python, r, hast, schon, umfeld, microsoft, azure, gearbeitet, verfügst, fundierte, methodenkenntnisse, praktische, erfahrung, statistik, hast, fähigkeit, end, to, end, datenlösungen, vorzustellen, richtigen, prioritäten, setzen, offenheit, wissen, kolleg, innen, teilen, lernen, bevorzugt, erforderlich, praktische, erfahrung, überwachten, unüberwachten, maschinellen, lerntechniken, kenntnisse, machine, learning, frameworks, cloudbasierten, datenanalysetools, kenntnisse, softwareentwicklung, erfahrungen, big, data, anwendungen, z, b, spark, cloud, plattformen, aws, azure, google, cloud, containerisierung, docker, kubernetes]   \n",
       "\n",
       "  language  \n",
       "0       de  \n",
       "1       de  "
      ]
     },
     "execution_count": 50,
     "metadata": {},
     "output_type": "execute_result"
    }
   ],
   "source": [
    "jobDesc.head(2)"
   ]
  },
  {
   "cell_type": "markdown",
   "id": "75010c71",
   "metadata": {},
   "source": [
    "# Pos Tagging and Lemmatization"
   ]
  },
  {
   "cell_type": "markdown",
   "id": "508d84f5",
   "metadata": {},
   "source": [
    "In this section the **Pos tagging** and the **Lemmatization** are performed. In the pos tagging, the word class (e.g. noun, verb, adjective) of each word is determined. In the lemmatization, the token is replaced by its lemma, eg. canonical form (e.g. went is replaced by go). These two steps are processed in the same section because some functions perform both steps together and  lemmatization performs better if the pos tag is known.\n",
    "\n",
    "The most relevant information is contained in nouns (e.g. Python, SQL). Therefore, tokens with another wordclass are removed from the data frame in this step.\n",
    "\n",
    "This step is performed with the function `TagLem()` of the module `textMiningFunctions`. This function has the same arguments like the function `removeStopwords` (step stopword removal) and uses objects of different packages:\n",
    "* German tokens are tagged and lemmatized with the package `HaNa`. This package contains the class `HanoverTagger`. An instance of this class contains the method `tag_sent()` which returns the pos tag and the lemma of the token in once. \n",
    "* English tokens are tagged and lemmatized with the package `nltk`. The `pos_tag()` function of this package is used for pos tagging and the `WordNetLemmatizer` class is used for lemmatizing."
   ]
  },
  {
   "cell_type": "code",
   "execution_count": 54,
   "id": "186b3a2c",
   "metadata": {
    "scrolled": true
   },
   "outputs": [],
   "source": [
    "tm.TagLem(jobDesc, \"tasks\", \"language\")\n",
    "tm.TagLem(jobDesc, \"applicantProfile\", \"language\")"
   ]
  },
  {
   "cell_type": "code",
   "execution_count": 55,
   "id": "53b8dc8b",
   "metadata": {},
   "outputs": [
    {
     "data": {
      "text/html": [
       "<div>\n",
       "<style scoped>\n",
       "    .dataframe tbody tr th:only-of-type {\n",
       "        vertical-align: middle;\n",
       "    }\n",
       "\n",
       "    .dataframe tbody tr th {\n",
       "        vertical-align: top;\n",
       "    }\n",
       "\n",
       "    .dataframe thead th {\n",
       "        text-align: right;\n",
       "    }\n",
       "</style>\n",
       "<table border=\"1\" class=\"dataframe\">\n",
       "  <thead>\n",
       "    <tr style=\"text-align: right;\">\n",
       "      <th></th>\n",
       "      <th>jobId</th>\n",
       "      <th>tasks</th>\n",
       "      <th>applicantProfile</th>\n",
       "      <th>language</th>\n",
       "    </tr>\n",
       "  </thead>\n",
       "  <tbody>\n",
       "    <tr>\n",
       "      <th>0</th>\n",
       "      <td>7733373</td>\n",
       "      <td>[sas, lösung, geschäftsbereich, prognose, verfügung, kunde, absatzplanung, genauigkeit, stabilität, prognose, verfahren, software, lösung, verbesserung, zuverlässigkeit, qualität, prognose, ad, hoc, unterstützung, prognose, schwerpunkt, absatzentwicklung]</td>\n",
       "      <td>[studium, mathematik, statistik, methode, erfolg, expertise, data, analyst, erfahrung, methode, z, predictive, analytics, time, series, data, mining, sql, sas, 4gl, programmierung, erfahrung, r, phyton, vorteil, fähigkeit, erfahrung, kenntnis, profil]</td>\n",
       "      <td>de</td>\n",
       "    </tr>\n",
       "    <tr>\n",
       "      <th>1</th>\n",
       "      <td>7930448</td>\n",
       "      <td>[analyse, reporting, adobe, analytics, analyse, verhaltensdatum, auseinandersetzung, herausforderung, bereich, data, warehousing, data, science, sprachverarbeitung, perspektive, bereich, data, science, spiegel, spiegel, research, team, nutzerforschung, testing, ux, research, ziel, beweggrund, motivation, leser, subteam, data, science, team, adobe, analytics, hauptdatenquelle, python, spark, data, engineering, r, analyse, cloud, dienstleister, microsoft, azure, einsatz, infrastruktur, webanalyse, testing, adobe, experience, cloud, adobe, analytics, system, schnittstelle, research, analyse, datum, technologie, mehrwert, spiegel, gruppe, schwerpunkt, analyse, weiterentwicklung, toolbox, basis, python, r, ergebnis, geschichte, erfahrung, analyse, research, kolleg, redakteur, testing, produktentwicklungs, data, science, anwendungsfälle, analyse, reportings, interface, adobe, analytics, reportingstruktur, data, team, verhalten, kunde, erkenntnis, konzeption, auswertung, test, aggregation, datumensatz, ...]</td>\n",
       "      <td>[jahr, erfahrung, analyse, webanalysetools, adobe, analytics, datenvisualisierung, datenzugriff, automation, datenspeicherung, kenntnis, python, r, umfeld, microsoft, azure, methodenkenntnisse, erfahrung, statistik, fähigkeit, to, priorität, offenheit, kolleg, erfahrung, lerntechniken, kenntnis, machine, learning, frameworks, cloudbasierten, datenanalysetools, kenntnis, softwareentwicklung, erfahrung, big, data, anwendung, z, spark, cloud, plattform, aws, azure, cloud, containerisierung, docker, kubernetes]</td>\n",
       "      <td>de</td>\n",
       "    </tr>\n",
       "  </tbody>\n",
       "</table>\n",
       "</div>"
      ],
      "text/plain": [
       "     jobId  \\\n",
       "0  7733373   \n",
       "1  7930448   \n",
       "\n",
       "                                                                                                                                                                                                                                                                                                                                                                                                                                                                                                                                                                                                                                                                                                                                                                                                                                                                                                                                                                                                                                                     tasks  \\\n",
       "0                                                                                                                                                                                                                                                                                                                                                                                                                                                                                                                                                                                                                                                                                                                                                                                          [sas, lösung, geschäftsbereich, prognose, verfügung, kunde, absatzplanung, genauigkeit, stabilität, prognose, verfahren, software, lösung, verbesserung, zuverlässigkeit, qualität, prognose, ad, hoc, unterstützung, prognose, schwerpunkt, absatzentwicklung]   \n",
       "1  [analyse, reporting, adobe, analytics, analyse, verhaltensdatum, auseinandersetzung, herausforderung, bereich, data, warehousing, data, science, sprachverarbeitung, perspektive, bereich, data, science, spiegel, spiegel, research, team, nutzerforschung, testing, ux, research, ziel, beweggrund, motivation, leser, subteam, data, science, team, adobe, analytics, hauptdatenquelle, python, spark, data, engineering, r, analyse, cloud, dienstleister, microsoft, azure, einsatz, infrastruktur, webanalyse, testing, adobe, experience, cloud, adobe, analytics, system, schnittstelle, research, analyse, datum, technologie, mehrwert, spiegel, gruppe, schwerpunkt, analyse, weiterentwicklung, toolbox, basis, python, r, ergebnis, geschichte, erfahrung, analyse, research, kolleg, redakteur, testing, produktentwicklungs, data, science, anwendungsfälle, analyse, reportings, interface, adobe, analytics, reportingstruktur, data, team, verhalten, kunde, erkenntnis, konzeption, auswertung, test, aggregation, datumensatz, ...]   \n",
       "\n",
       "                                                                                                                                                                                                                                                                                                                                                                                                                                                                                                                   applicantProfile  \\\n",
       "0                                                                                                                                                                                                                                                                       [studium, mathematik, statistik, methode, erfolg, expertise, data, analyst, erfahrung, methode, z, predictive, analytics, time, series, data, mining, sql, sas, 4gl, programmierung, erfahrung, r, phyton, vorteil, fähigkeit, erfahrung, kenntnis, profil]   \n",
       "1  [jahr, erfahrung, analyse, webanalysetools, adobe, analytics, datenvisualisierung, datenzugriff, automation, datenspeicherung, kenntnis, python, r, umfeld, microsoft, azure, methodenkenntnisse, erfahrung, statistik, fähigkeit, to, priorität, offenheit, kolleg, erfahrung, lerntechniken, kenntnis, machine, learning, frameworks, cloudbasierten, datenanalysetools, kenntnis, softwareentwicklung, erfahrung, big, data, anwendung, z, spark, cloud, plattform, aws, azure, cloud, containerisierung, docker, kubernetes]   \n",
       "\n",
       "  language  \n",
       "0       de  \n",
       "1       de  "
      ]
     },
     "execution_count": 55,
     "metadata": {},
     "output_type": "execute_result"
    }
   ],
   "source": [
    "jobDesc.head(2)"
   ]
  },
  {
   "cell_type": "markdown",
   "id": "ec5339cb",
   "metadata": {},
   "source": [
    "# Token combinations"
   ]
  },
  {
   "cell_type": "markdown",
   "id": "174ce73d",
   "metadata": {},
   "source": [
    "Some aspects (e.g. tasks  or competencies) consist of two or more tokens so-called **n-grams** or **token combinations** (e.g. machine learning or business intelligence). Token combinations of two (2-grams) are created in this section.\n",
    "\n",
    "These two grams can be created with the function `bigrams()` of the package `nltk`. The input of this function is a list of tokens. The function returns all possible two grams."
   ]
  },
  {
   "cell_type": "code",
   "execution_count": 56,
   "id": "bd5ac539",
   "metadata": {},
   "outputs": [
    {
     "data": {
      "text/plain": [
       "[('Das', 'Business'),\n",
       " ('Business', 'Intelligence'),\n",
       " ('Intelligence', 'Tool'),\n",
       " ('Tool', 'kann'),\n",
       " ('kann', 'Daten'),\n",
       " ('Daten', 'gut'),\n",
       " ('gut', 'darstellen')]"
      ]
     },
     "execution_count": 56,
     "metadata": {},
     "output_type": "execute_result"
    }
   ],
   "source": [
    "tokens = [\"Das\", \"Business\", \"Intelligence\", \"Tool\", \"kann\", \"Daten\", \"gut\", \"darstellen\"]\n",
    "\n",
    "list(nltk.bigrams(tokens))"
   ]
  },
  {
   "cell_type": "markdown",
   "id": "012dd1f6",
   "metadata": {},
   "source": [
    "Our module `textMiningFunctions` contains the function `createTokenCombinations()`. This function creates token combinations of two and uses the function `Bigrams()`. This function has two arguments. The first represents the data frame, the second represents the column for which token combinations must be created. The function adds a new column to the data frame which contains the token combinations. This column has the suffix **Comb**.\n",
    "\n",
    "\n",
    "> **Note:** In this section all possible token combinations are determined. Infrequent token combinations are removed in the next section."
   ]
  },
  {
   "cell_type": "code",
   "execution_count": 57,
   "id": "54f92993",
   "metadata": {},
   "outputs": [],
   "source": [
    "tm.createTokenCombinations(jobDesc,\"tasks\")\n",
    "tm.createTokenCombinations(jobDesc,\"applicantProfile\")"
   ]
  },
  {
   "cell_type": "code",
   "execution_count": 58,
   "id": "962a1457",
   "metadata": {},
   "outputs": [
    {
     "data": {
      "text/html": [
       "<div>\n",
       "<style scoped>\n",
       "    .dataframe tbody tr th:only-of-type {\n",
       "        vertical-align: middle;\n",
       "    }\n",
       "\n",
       "    .dataframe tbody tr th {\n",
       "        vertical-align: top;\n",
       "    }\n",
       "\n",
       "    .dataframe thead th {\n",
       "        text-align: right;\n",
       "    }\n",
       "</style>\n",
       "<table border=\"1\" class=\"dataframe\">\n",
       "  <thead>\n",
       "    <tr style=\"text-align: right;\">\n",
       "      <th></th>\n",
       "      <th>jobId</th>\n",
       "      <th>tasks</th>\n",
       "      <th>applicantProfile</th>\n",
       "      <th>language</th>\n",
       "      <th>tasksComb</th>\n",
       "      <th>applicantProfileComb</th>\n",
       "    </tr>\n",
       "  </thead>\n",
       "  <tbody>\n",
       "    <tr>\n",
       "      <th>0</th>\n",
       "      <td>7733373</td>\n",
       "      <td>[sas, lösung, geschäftsbereich, prognose, verfügung, kunde, absatzplanung, genauigkeit, stabilität, prognose, verfahren, software, lösung, verbesserung, zuverlässigkeit, qualität, prognose, ad, hoc, unterstützung, prognose, schwerpunkt, absatzentwicklung]</td>\n",
       "      <td>[studium, mathematik, statistik, methode, erfolg, expertise, data, analyst, erfahrung, methode, z, predictive, analytics, time, series, data, mining, sql, sas, 4gl, programmierung, erfahrung, r, phyton, vorteil, fähigkeit, erfahrung, kenntnis, profil]</td>\n",
       "      <td>de</td>\n",
       "      <td>[sas lösung, lösung geschäftsbereich, geschäftsbereich prognose, prognose verfügung, verfügung kunde, kunde absatzplanung, absatzplanung genauigkeit, genauigkeit stabilität, stabilität prognose, prognose verfahren, verfahren software, software lösung, lösung verbesserung, verbesserung zuverlässigkeit, zuverlässigkeit qualität, qualität prognose, prognose ad, ad hoc, hoc unterstützung, unterstützung prognose, prognose schwerpunkt, schwerpunkt absatzentwicklung]</td>\n",
       "      <td>[studium mathematik, mathematik statistik, statistik methode, methode erfolg, erfolg expertise, expertise data, data analyst, analyst erfahrung, erfahrung methode, methode z, z predictive, predictive analytics, analytics time, time series, series data, data mining, mining sql, sql sas, sas 4gl, 4gl programmierung, programmierung erfahrung, erfahrung r, r phyton, phyton vorteil, vorteil fähigkeit, fähigkeit erfahrung, erfahrung kenntnis, kenntnis profil]</td>\n",
       "    </tr>\n",
       "    <tr>\n",
       "      <th>1</th>\n",
       "      <td>7930448</td>\n",
       "      <td>[analyse, reporting, adobe, analytics, analyse, verhaltensdatum, auseinandersetzung, herausforderung, bereich, data, warehousing, data, science, sprachverarbeitung, perspektive, bereich, data, science, spiegel, spiegel, research, team, nutzerforschung, testing, ux, research, ziel, beweggrund, motivation, leser, subteam, data, science, team, adobe, analytics, hauptdatenquelle, python, spark, data, engineering, r, analyse, cloud, dienstleister, microsoft, azure, einsatz, infrastruktur, webanalyse, testing, adobe, experience, cloud, adobe, analytics, system, schnittstelle, research, analyse, datum, technologie, mehrwert, spiegel, gruppe, schwerpunkt, analyse, weiterentwicklung, toolbox, basis, python, r, ergebnis, geschichte, erfahrung, analyse, research, kolleg, redakteur, testing, produktentwicklungs, data, science, anwendungsfälle, analyse, reportings, interface, adobe, analytics, reportingstruktur, data, team, verhalten, kunde, erkenntnis, konzeption, auswertung, test, aggregation, datumensatz, ...]</td>\n",
       "      <td>[jahr, erfahrung, analyse, webanalysetools, adobe, analytics, datenvisualisierung, datenzugriff, automation, datenspeicherung, kenntnis, python, r, umfeld, microsoft, azure, methodenkenntnisse, erfahrung, statistik, fähigkeit, to, priorität, offenheit, kolleg, erfahrung, lerntechniken, kenntnis, machine, learning, frameworks, cloudbasierten, datenanalysetools, kenntnis, softwareentwicklung, erfahrung, big, data, anwendung, z, spark, cloud, plattform, aws, azure, cloud, containerisierung, docker, kubernetes]</td>\n",
       "      <td>de</td>\n",
       "      <td>[analyse reporting, reporting adobe, adobe analytics, analytics analyse, analyse verhaltensdatum, verhaltensdatum auseinandersetzung, auseinandersetzung herausforderung, herausforderung bereich, bereich data, data warehousing, warehousing data, data science, science sprachverarbeitung, sprachverarbeitung perspektive, perspektive bereich, bereich data, data science, science spiegel, spiegel spiegel, spiegel research, research team, team nutzerforschung, nutzerforschung testing, testing ux, ux research, research ziel, ziel beweggrund, beweggrund motivation, motivation leser, leser subteam, subteam data, data science, science team, team adobe, adobe analytics, analytics hauptdatenquelle, hauptdatenquelle python, python spark, spark data, data engineering, engineering r, r analyse, analyse cloud, cloud dienstleister, dienstleister microsoft, microsoft azure, azure einsatz, einsatz infrastruktur, infrastruktur webanalyse, webanalyse testing, testing adobe, adobe experience, experience cloud, cloud adobe, adobe analytics, analytics system, system schnittstelle, schnittstelle research, research analyse, analyse datum, datum technologie, technologie mehrwert, mehrwert spiegel, spiegel gruppe, gruppe schwerpunkt, schwerpunkt analyse, analyse weiterentwicklung, weiterentwicklung toolbox, toolbox basis, basis python, python r, r ergebnis, ergebnis geschichte, geschichte erfahrung, erfahrung analyse, analyse research, research kolleg, kolleg redakteur, redakteur testing, testing produktentwicklungs, produktentwicklungs data, data science, science anwendungsfälle, anwendungsfälle analyse, analyse reportings, reportings interface, interface adobe, adobe analytics, analytics reportingstruktur, reportingstruktur data, data team, team verhalten, verhalten kunde, kunde erkenntnis, erkenntnis konzeption, konzeption auswertung, auswertung test, test aggregation, aggregation datumensatz, datumensatz standardrepertoire, ...]</td>\n",
       "      <td>[jahr erfahrung, erfahrung analyse, analyse webanalysetools, webanalysetools adobe, adobe analytics, analytics datenvisualisierung, datenvisualisierung datenzugriff, datenzugriff automation, automation datenspeicherung, datenspeicherung kenntnis, kenntnis python, python r, r umfeld, umfeld microsoft, microsoft azure, azure methodenkenntnisse, methodenkenntnisse erfahrung, erfahrung statistik, statistik fähigkeit, fähigkeit to, to priorität, priorität offenheit, offenheit kolleg, kolleg erfahrung, erfahrung lerntechniken, lerntechniken kenntnis, kenntnis machine, machine learning, learning frameworks, frameworks cloudbasierten, cloudbasierten datenanalysetools, datenanalysetools kenntnis, kenntnis softwareentwicklung, softwareentwicklung erfahrung, erfahrung big, big data, data anwendung, anwendung z, z spark, spark cloud, cloud plattform, plattform aws, aws azure, azure cloud, cloud containerisierung, containerisierung docker, docker kubernetes]</td>\n",
       "    </tr>\n",
       "    <tr>\n",
       "      <th>2</th>\n",
       "      <td>7916480</td>\n",
       "      <td>[neuausrichtung, atruvia, ag, umfeld, intelligenz, smart, analytics, transformation, data, science, ki, lösung, python, proof, of, concept, machine, learning, modell, wissen, finanzdienstleistungsbranche, lösung, z, automatisierung, prozeß, datenverwertung, aufgabe, z, dokument, spracherkennung, aufbereitung, analyse, un, modell, entwicklungsumgebung, ansprechperson, bereich, finanz, gruppe, kunde, vorgehensweise, arbeitsumfeld, entwicklung, branche, up, to, date]</td>\n",
       "      <td>[studium, wirtschaft, informatik, mathematik, physik, qualifikation, berufserfahrung, machine, learning, modell, python, kenntnis, erfahrung, datenaufbereitung, spark, frameworks, lösung, arbeitsumfeld, fachkenntnisse, arbeitsweise, service]</td>\n",
       "      <td>de</td>\n",
       "      <td>[neuausrichtung atruvia, atruvia ag, ag umfeld, umfeld intelligenz, intelligenz smart, smart analytics, analytics transformation, transformation data, data science, science ki, ki lösung, lösung python, python proof, proof of, of concept, concept machine, machine learning, learning modell, modell wissen, wissen finanzdienstleistungsbranche, finanzdienstleistungsbranche lösung, lösung z, z automatisierung, automatisierung prozeß, prozeß datenverwertung, datenverwertung aufgabe, aufgabe z, z dokument, dokument spracherkennung, spracherkennung aufbereitung, aufbereitung analyse, analyse un, un modell, modell entwicklungsumgebung, entwicklungsumgebung ansprechperson, ansprechperson bereich, bereich finanz, finanz gruppe, gruppe kunde, kunde vorgehensweise, vorgehensweise arbeitsumfeld, arbeitsumfeld entwicklung, entwicklung branche, branche up, up to, to date]</td>\n",
       "      <td>[studium wirtschaft, wirtschaft informatik, informatik mathematik, mathematik physik, physik qualifikation, qualifikation berufserfahrung, berufserfahrung machine, machine learning, learning modell, modell python, python kenntnis, kenntnis erfahrung, erfahrung datenaufbereitung, datenaufbereitung spark, spark frameworks, frameworks lösung, lösung arbeitsumfeld, arbeitsumfeld fachkenntnisse, fachkenntnisse arbeitsweise, arbeitsweise service]</td>\n",
       "    </tr>\n",
       "  </tbody>\n",
       "</table>\n",
       "</div>"
      ],
      "text/plain": [
       "     jobId  \\\n",
       "0  7733373   \n",
       "1  7930448   \n",
       "2  7916480   \n",
       "\n",
       "                                                                                                                                                                                                                                                                                                                                                                                                                                                                                                                                                                                                                                                                                                                                                                                                                                                                                                                                                                                                                                                     tasks  \\\n",
       "0                                                                                                                                                                                                                                                                                                                                                                                                                                                                                                                                                                                                                                                                                                                                                                                          [sas, lösung, geschäftsbereich, prognose, verfügung, kunde, absatzplanung, genauigkeit, stabilität, prognose, verfahren, software, lösung, verbesserung, zuverlässigkeit, qualität, prognose, ad, hoc, unterstützung, prognose, schwerpunkt, absatzentwicklung]   \n",
       "1  [analyse, reporting, adobe, analytics, analyse, verhaltensdatum, auseinandersetzung, herausforderung, bereich, data, warehousing, data, science, sprachverarbeitung, perspektive, bereich, data, science, spiegel, spiegel, research, team, nutzerforschung, testing, ux, research, ziel, beweggrund, motivation, leser, subteam, data, science, team, adobe, analytics, hauptdatenquelle, python, spark, data, engineering, r, analyse, cloud, dienstleister, microsoft, azure, einsatz, infrastruktur, webanalyse, testing, adobe, experience, cloud, adobe, analytics, system, schnittstelle, research, analyse, datum, technologie, mehrwert, spiegel, gruppe, schwerpunkt, analyse, weiterentwicklung, toolbox, basis, python, r, ergebnis, geschichte, erfahrung, analyse, research, kolleg, redakteur, testing, produktentwicklungs, data, science, anwendungsfälle, analyse, reportings, interface, adobe, analytics, reportingstruktur, data, team, verhalten, kunde, erkenntnis, konzeption, auswertung, test, aggregation, datumensatz, ...]   \n",
       "2                                                                                                                                                                                                                                                                                                                                                                                                                                                                                                                                                                     [neuausrichtung, atruvia, ag, umfeld, intelligenz, smart, analytics, transformation, data, science, ki, lösung, python, proof, of, concept, machine, learning, modell, wissen, finanzdienstleistungsbranche, lösung, z, automatisierung, prozeß, datenverwertung, aufgabe, z, dokument, spracherkennung, aufbereitung, analyse, un, modell, entwicklungsumgebung, ansprechperson, bereich, finanz, gruppe, kunde, vorgehensweise, arbeitsumfeld, entwicklung, branche, up, to, date]   \n",
       "\n",
       "                                                                                                                                                                                                                                                                                                                                                                                                                                                                                                                   applicantProfile  \\\n",
       "0                                                                                                                                                                                                                                                                       [studium, mathematik, statistik, methode, erfolg, expertise, data, analyst, erfahrung, methode, z, predictive, analytics, time, series, data, mining, sql, sas, 4gl, programmierung, erfahrung, r, phyton, vorteil, fähigkeit, erfahrung, kenntnis, profil]   \n",
       "1  [jahr, erfahrung, analyse, webanalysetools, adobe, analytics, datenvisualisierung, datenzugriff, automation, datenspeicherung, kenntnis, python, r, umfeld, microsoft, azure, methodenkenntnisse, erfahrung, statistik, fähigkeit, to, priorität, offenheit, kolleg, erfahrung, lerntechniken, kenntnis, machine, learning, frameworks, cloudbasierten, datenanalysetools, kenntnis, softwareentwicklung, erfahrung, big, data, anwendung, z, spark, cloud, plattform, aws, azure, cloud, containerisierung, docker, kubernetes]   \n",
       "2                                                                                                                                                                                                                                                                                 [studium, wirtschaft, informatik, mathematik, physik, qualifikation, berufserfahrung, machine, learning, modell, python, kenntnis, erfahrung, datenaufbereitung, spark, frameworks, lösung, arbeitsumfeld, fachkenntnisse, arbeitsweise, service]   \n",
       "\n",
       "  language  \\\n",
       "0       de   \n",
       "1       de   \n",
       "2       de   \n",
       "\n",
       "                                                                                                                                                                                                                                                                                                                                                                                                                                                                                                                                                                                                                                                                                                                                                                                                                                                                                                                                                                                                                                                                                                                                                                                                                                                                                                                                                                                                                                                                                                                                                                                                                                                                                                                                                                                                                                                                                                                                                                                                          tasksComb  \\\n",
       "0                                                                                                                                                                                                                                                                                                                                                                                                                                                                                                                                                                                                                                                                                                                                                                                                                                                                                                                                                                                                                                                                                                                                                                                                                                                                                                                                                                                                                                                                                                                                  [sas lösung, lösung geschäftsbereich, geschäftsbereich prognose, prognose verfügung, verfügung kunde, kunde absatzplanung, absatzplanung genauigkeit, genauigkeit stabilität, stabilität prognose, prognose verfahren, verfahren software, software lösung, lösung verbesserung, verbesserung zuverlässigkeit, zuverlässigkeit qualität, qualität prognose, prognose ad, ad hoc, hoc unterstützung, unterstützung prognose, prognose schwerpunkt, schwerpunkt absatzentwicklung]   \n",
       "1  [analyse reporting, reporting adobe, adobe analytics, analytics analyse, analyse verhaltensdatum, verhaltensdatum auseinandersetzung, auseinandersetzung herausforderung, herausforderung bereich, bereich data, data warehousing, warehousing data, data science, science sprachverarbeitung, sprachverarbeitung perspektive, perspektive bereich, bereich data, data science, science spiegel, spiegel spiegel, spiegel research, research team, team nutzerforschung, nutzerforschung testing, testing ux, ux research, research ziel, ziel beweggrund, beweggrund motivation, motivation leser, leser subteam, subteam data, data science, science team, team adobe, adobe analytics, analytics hauptdatenquelle, hauptdatenquelle python, python spark, spark data, data engineering, engineering r, r analyse, analyse cloud, cloud dienstleister, dienstleister microsoft, microsoft azure, azure einsatz, einsatz infrastruktur, infrastruktur webanalyse, webanalyse testing, testing adobe, adobe experience, experience cloud, cloud adobe, adobe analytics, analytics system, system schnittstelle, schnittstelle research, research analyse, analyse datum, datum technologie, technologie mehrwert, mehrwert spiegel, spiegel gruppe, gruppe schwerpunkt, schwerpunkt analyse, analyse weiterentwicklung, weiterentwicklung toolbox, toolbox basis, basis python, python r, r ergebnis, ergebnis geschichte, geschichte erfahrung, erfahrung analyse, analyse research, research kolleg, kolleg redakteur, redakteur testing, testing produktentwicklungs, produktentwicklungs data, data science, science anwendungsfälle, anwendungsfälle analyse, analyse reportings, reportings interface, interface adobe, adobe analytics, analytics reportingstruktur, reportingstruktur data, data team, team verhalten, verhalten kunde, kunde erkenntnis, erkenntnis konzeption, konzeption auswertung, auswertung test, test aggregation, aggregation datumensatz, datumensatz standardrepertoire, ...]   \n",
       "2                                                                                                                                                                                                                                                                                                                                                                                                                                                                                                                                                                                                                                                                                                                                                                                                                                                                                                                                                                                                                                                                                                              [neuausrichtung atruvia, atruvia ag, ag umfeld, umfeld intelligenz, intelligenz smart, smart analytics, analytics transformation, transformation data, data science, science ki, ki lösung, lösung python, python proof, proof of, of concept, concept machine, machine learning, learning modell, modell wissen, wissen finanzdienstleistungsbranche, finanzdienstleistungsbranche lösung, lösung z, z automatisierung, automatisierung prozeß, prozeß datenverwertung, datenverwertung aufgabe, aufgabe z, z dokument, dokument spracherkennung, spracherkennung aufbereitung, aufbereitung analyse, analyse un, un modell, modell entwicklungsumgebung, entwicklungsumgebung ansprechperson, ansprechperson bereich, bereich finanz, finanz gruppe, gruppe kunde, kunde vorgehensweise, vorgehensweise arbeitsumfeld, arbeitsumfeld entwicklung, entwicklung branche, branche up, up to, to date]   \n",
       "\n",
       "                                                                                                                                                                                                                                                                                                                                                                                                                                                                                                                                                                                                                                                                                                                                                                                                                                                                                                                                                                              applicantProfileComb  \n",
       "0                                                                                                                                                                                                                                                                                                                                                                                                                                                                                                                        [studium mathematik, mathematik statistik, statistik methode, methode erfolg, erfolg expertise, expertise data, data analyst, analyst erfahrung, erfahrung methode, methode z, z predictive, predictive analytics, analytics time, time series, series data, data mining, mining sql, sql sas, sas 4gl, 4gl programmierung, programmierung erfahrung, erfahrung r, r phyton, phyton vorteil, vorteil fähigkeit, fähigkeit erfahrung, erfahrung kenntnis, kenntnis profil]  \n",
       "1  [jahr erfahrung, erfahrung analyse, analyse webanalysetools, webanalysetools adobe, adobe analytics, analytics datenvisualisierung, datenvisualisierung datenzugriff, datenzugriff automation, automation datenspeicherung, datenspeicherung kenntnis, kenntnis python, python r, r umfeld, umfeld microsoft, microsoft azure, azure methodenkenntnisse, methodenkenntnisse erfahrung, erfahrung statistik, statistik fähigkeit, fähigkeit to, to priorität, priorität offenheit, offenheit kolleg, kolleg erfahrung, erfahrung lerntechniken, lerntechniken kenntnis, kenntnis machine, machine learning, learning frameworks, frameworks cloudbasierten, cloudbasierten datenanalysetools, datenanalysetools kenntnis, kenntnis softwareentwicklung, softwareentwicklung erfahrung, erfahrung big, big data, data anwendung, anwendung z, z spark, spark cloud, cloud plattform, plattform aws, aws azure, azure cloud, cloud containerisierung, containerisierung docker, docker kubernetes]  \n",
       "2                                                                                                                                                                                                                                                                                                                                                                                                                                                                                                                                     [studium wirtschaft, wirtschaft informatik, informatik mathematik, mathematik physik, physik qualifikation, qualifikation berufserfahrung, berufserfahrung machine, machine learning, learning modell, modell python, python kenntnis, kenntnis erfahrung, erfahrung datenaufbereitung, datenaufbereitung spark, spark frameworks, frameworks lösung, lösung arbeitsumfeld, arbeitsumfeld fachkenntnisse, fachkenntnisse arbeitsweise, arbeitsweise service]  "
      ]
     },
     "execution_count": 58,
     "metadata": {},
     "output_type": "execute_result"
    }
   ],
   "source": [
    "jobDesc.head(3)"
   ]
  },
  {
   "cell_type": "markdown",
   "id": "0f3b72fd",
   "metadata": {},
   "source": [
    "# Removing Duplicates"
   ]
  },
  {
   "cell_type": "markdown",
   "id": "a3d4d23a",
   "metadata": {},
   "source": [
    "In our analysis, it is only relevant if a token occurs in a job offer or not. It is not relevant how often a token occurs. Therefore, duplicates are removed in the next step with the function `removeDuplicates()`."
   ]
  },
  {
   "cell_type": "code",
   "execution_count": 59,
   "id": "6e370c8f",
   "metadata": {},
   "outputs": [],
   "source": [
    "# tokens\n",
    "tm.removeDuplicates(jobDesc, \"tasks\")\n",
    "tm.removeDuplicates(jobDesc, \"applicantProfile\")\n",
    "\n",
    "# token combinations\n",
    "tm.removeDuplicates(jobDesc, \"tasksComb\")\n",
    "tm.removeDuplicates(jobDesc, \"applicantProfileComb\")"
   ]
  },
  {
   "cell_type": "markdown",
   "id": "e5dec4bd",
   "metadata": {},
   "source": [
    "# Selection of relevant objects"
   ]
  },
  {
   "cell_type": "markdown",
   "id": "6979d501",
   "metadata": {},
   "source": [
    "In this section, the relevant tokens and token combinations are filtered. \n",
    "\n",
    "This section contains three parts. The first part gives an overview of the number and distribution of tokens and token combinations. Based on this information, deletion boundaries are defined. In the second part, infrequent tokens and token combinations are removed according to these deletion boundaries.\n",
    "\n",
    "In a third part, the remaining general tokens and token combinations without added value are removed."
   ]
  },
  {
   "cell_type": "markdown",
   "id": "a2c0a9b0",
   "metadata": {},
   "source": [
    "## Overview of the object number and distribution"
   ]
  },
  {
   "cell_type": "markdown",
   "id": "6e22a567",
   "metadata": {},
   "source": [
    "The module `textMiningFunctions` contains the function `countDistinctObjects()`. This function returns the number of distinct tokens or token combinations in a column.\n",
    "\n",
    "First, the function is applied on the columns with the tokens."
   ]
  },
  {
   "cell_type": "code",
   "execution_count": 60,
   "id": "d99acd1a",
   "metadata": {},
   "outputs": [
    {
     "name": "stdout",
     "output_type": "stream",
     "text": [
      "Tasks:  5927\n",
      "Applicant Profile:  4403\n"
     ]
    }
   ],
   "source": [
    "print(\"Tasks: \",tm.countDistinctObjects(jobDesc,\"tasks\"))\n",
    "print(\"Applicant Profile: \",tm.countDistinctObjects(jobDesc,\"applicantProfile\"))"
   ]
  },
  {
   "cell_type": "markdown",
   "id": "c65c3236",
   "metadata": {},
   "source": [
    "It is obvious, that the descriptions of the job tasks have the most distinct tokens.\n",
    "\n",
    "Next, the function is applied on the columns with the token combinations."
   ]
  },
  {
   "cell_type": "code",
   "execution_count": 61,
   "id": "e2ff6ee0",
   "metadata": {},
   "outputs": [
    {
     "name": "stdout",
     "output_type": "stream",
     "text": [
      "Tasks:  31320\n",
      "Applicant Profile:  22771\n"
     ]
    }
   ],
   "source": [
    "print(\"Tasks: \",tm.countDistinctObjects(jobDesc,\"tasksComb\"))\n",
    "print(\"Applicant Profile: \",tm.countDistinctObjects(jobDesc,\"applicantProfileComb\"))"
   ]
  },
  {
   "cell_type": "markdown",
   "id": "d4f49c6d",
   "metadata": {},
   "source": [
    "You can see that the task descriptions also contain the most distinct token combinations. Furthermore, there are generally  more distinct token combinations than tokens.\n",
    "\n",
    "The next step is to determine the object distribution. This can be achieved with the function `getFrequencyDistributionPlots()` of the module `textMiningFunctions`. This function plots the cumulative token (combination) distribution. The first argument of this function is the data frame. The second argument is a list of columns for which the distribution is plotted. The third argument determines the length of the x axis. The function returns the cumulative token (combination) distribution for the respective columns and is first applied to the columns with the tokens. "
   ]
  },
  {
   "cell_type": "code",
   "execution_count": 62,
   "id": "a197519e",
   "metadata": {
    "scrolled": true
   },
   "outputs": [
    {
     "data": {
      "image/png": "[encoded data removed]",
      "text/plain": [
       "<Figure size 1296x432 with 2 Axes>"
      ]
     },
     "metadata": {
      "needs_background": "light"
     },
     "output_type": "display_data"
    }
   ],
   "source": [
    "tm.getFrequencyDistributionPlots(jobDesc,[\"tasks\",\"applicantProfile\"],100)"
   ]
  },
  {
   "cell_type": "markdown",
   "id": "a04ca6d9",
   "metadata": {},
   "source": [
    "It is obvious that the most tokens exist on only a few job offers. Nearly 80 percent of tokens are found on around 4 or 5 job listings or less (red dotted lines and number). For comparison, the data frame contains more than 1100 job offers. "
   ]
  },
  {
   "cell_type": "markdown",
   "id": "fd8c4813",
   "metadata": {},
   "source": [
    "Next, the cumulative token distribution is plotted for the token combinations."
   ]
  },
  {
   "cell_type": "code",
   "execution_count": 63,
   "id": "a5a3c53d",
   "metadata": {},
   "outputs": [
    {
     "data": {
      "image/png": "[encoded data removed]",
      "text/plain": [
       "<Figure size 1296x432 with 2 Axes>"
      ]
     },
     "metadata": {
      "needs_background": "light"
     },
     "output_type": "display_data"
    }
   ],
   "source": [
    "tm.getFrequencyDistributionPlots(jobDesc,[\"tasksComb\",\"applicantProfileComb\"],20)"
   ]
  },
  {
   "cell_type": "markdown",
   "id": "479d80c9",
   "metadata": {},
   "source": [
    "You can see, that almost 80 percent of the token combinations are only on one job offer. "
   ]
  },
  {
   "cell_type": "markdown",
   "id": "0798bd3e",
   "metadata": {},
   "source": [
    "In this project, we focus on the most relevant tokens and token combinations. These are tokens which appear in **at least 50** job offers and token combinations which appear in **at least 30** job offers. The previous plots show that token combinations tend to be present on fewer job offers than tokens. Therefore, the definition of relevant token combinations is different from the definition of relevant tokens."
   ]
  },
  {
   "cell_type": "markdown",
   "id": "7d945a53",
   "metadata": {},
   "source": [
    "> **Note:** The boundaries were chosen in an iterative process so that enough tokens and token combinations remain in the data frame."
   ]
  },
  {
   "cell_type": "markdown",
   "id": "bbbfad4e",
   "metadata": {},
   "source": [
    "## Deletion of infrequent objects"
   ]
  },
  {
   "cell_type": "markdown",
   "id": "082339ac",
   "metadata": {},
   "source": [
    "Now, infrequent tokens and token combinations are deleted according to the rules defined in the previous part. This is achieved with the function `removeInfrequentObjects`. The first argument of this function is the data frame. The second argument is the column in which infrequent tokens must be deleted. The last argument is the minimum number of job offers on which the tokens or token combinations must be present in order to remain in the data set."
   ]
  },
  {
   "cell_type": "code",
   "execution_count": 64,
   "id": "222b003a",
   "metadata": {
    "scrolled": true
   },
   "outputs": [],
   "source": [
    "# delete infrequent tokens\n",
    "tm.removeInfrequentObjects(jobDesc,\"tasks\",50)\n",
    "tm.removeInfrequentObjects(jobDesc,\"applicantProfile\",50)\n",
    "\n",
    "# delete infrequent token combinations\n",
    "tm.removeInfrequentObjects(jobDesc,\"tasksComb\",30)\n",
    "tm.removeInfrequentObjects(jobDesc,\"applicantProfileComb\",30)"
   ]
  },
  {
   "cell_type": "markdown",
   "id": "ccb1fcb5",
   "metadata": {},
   "source": [
    "The remaining number of distinct tokens:"
   ]
  },
  {
   "cell_type": "code",
   "execution_count": 65,
   "id": "1447ed58",
   "metadata": {
    "scrolled": true
   },
   "outputs": [
    {
     "name": "stdout",
     "output_type": "stream",
     "text": [
      "Tasks:  139\n",
      "Applicant Profile:  154\n"
     ]
    }
   ],
   "source": [
    "print(\"Tasks: \",tm.countDistinctObjects(jobDesc,\"tasks\"))\n",
    "print(\"Applicant Profile: \",tm.countDistinctObjects(jobDesc,\"applicantProfile\"))"
   ]
  },
  {
   "cell_type": "markdown",
   "id": "ecd50ee3",
   "metadata": {},
   "source": [
    "The remaining number of distinct token combinations:"
   ]
  },
  {
   "cell_type": "code",
   "execution_count": 66,
   "id": "f3d077c3",
   "metadata": {},
   "outputs": [
    {
     "name": "stdout",
     "output_type": "stream",
     "text": [
      "Tasks:  26\n",
      "Applicant Profile:  66\n"
     ]
    }
   ],
   "source": [
    "print(\"Tasks: \",tm.countDistinctObjects(jobDesc,\"tasksComb\"))\n",
    "print(\"Applicant Profile: \",tm.countDistinctObjects(jobDesc,\"applicantProfileComb\"))"
   ]
  },
  {
   "cell_type": "markdown",
   "id": "1cb2eea7",
   "metadata": {},
   "source": [
    "## Deletion of general objects"
   ]
  },
  {
   "cell_type": "markdown",
   "id": "c19b7045",
   "metadata": {},
   "source": [
    "In this step tokens and token combinations which are not specific to data science jobs are removed (**custom stopwords**).\n",
    "\n",
    "First, lists with tokens and token combinations which must be removed, are defined. These tokens and token combinations are determined in an iterative process."
   ]
  },
  {
   "cell_type": "code",
   "execution_count": 67,
   "id": "a25ff6e7",
   "metadata": {},
   "outputs": [],
   "source": [
    "# tokens\n",
    "delToken = ['erfahrung','kenntnis','experience','z','umgang','fähigkeit','wort','schrift','year','arbeitsweise','knowledge','umfeld'\n",
    ",'anforderung','unterstützung','customer','work','aufgabe','durchführung']\n",
    "\n",
    "# token combinations\n",
    "delTokenComb = ['erfahrung bereich','bereich data','berufserfahrung bereich','year experience','erfahrung umgang','know how','kenntnis bereich'\n",
    ",'e g','kenntnis umgang','kenntnis erfahrung','vorteil erfahrung','umgang m','scientist data','state art','learning modell']"
   ]
  },
  {
   "cell_type": "markdown",
   "id": "6923db32",
   "metadata": {},
   "source": [
    "Then, the tokens and token combinations are removed with the function `removeCustomStopwords()` of the package `textMiningFunctions`. The function has three arguments. The first one is the data frame, the second one is the column where the tokens or token combinations must be removed and the third one is the custom stopword list."
   ]
  },
  {
   "cell_type": "code",
   "execution_count": 68,
   "id": "3737de28",
   "metadata": {},
   "outputs": [],
   "source": [
    "# remove custom stopword tokens\n",
    "tm.removeCustomStopwords(jobDesc,\"applicantProfile\", delToken)\n",
    "tm.removeCustomStopwords(jobDesc,\"tasks\", delToken)\n",
    "\n",
    "# remove custom stopword token combinations\n",
    "tm.removeCustomStopwords(jobDesc,\"applicantProfileComb\", delTokenComb)\n",
    "tm.removeCustomStopwords(jobDesc,\"tasksComb\", delTokenComb)"
   ]
  },
  {
   "cell_type": "markdown",
   "id": "7d0c0e97",
   "metadata": {},
   "source": [
    "# Upload to Mongo DB"
   ]
  },
  {
   "cell_type": "markdown",
   "id": "6d536dcc",
   "metadata": {},
   "source": [
    "In this last section the tokens and token combinations are uploaded to Mongo DB.\n",
    "\n",
    "The first step is to extract the data from the pandas data frame to a list which contains different dictionaries."
   ]
  },
  {
   "cell_type": "code",
   "execution_count": 69,
   "id": "5923d873",
   "metadata": {},
   "outputs": [
    {
     "name": "stdout",
     "output_type": "stream",
     "text": [
      "{'jobId': '7928772', 'tasks': ['datum', 'erstellung', 'monitoring', 'analyse', 'methode', 'produkt', 'implementierung', 'prozeß', 'entwicklung'], 'applicantProfile': ['tableau', 'informatik', 'r', 'python', 'business', 'qualifikation', 'mathematik', 'bereich', 'programmierung', 'entwicklung', 'c', 'java', 'interesse', 'intelligence', 'learning', 'wirtschaft', 'machine', 'statistik', 'studium', 'tools'], 'language': 'de', 'tasksComb': [], 'applicantProfileComb': ['business intelligence', 'java script', 'studium bereich', 'python java', 'wirtschaft informatik', 'machine learning', 'wirtschaft mathematik']}\n"
     ]
    }
   ],
   "source": [
    "# save to dictionary\n",
    "jobList = jobDesc.to_dict(\"records\")\n",
    "\n",
    "# print one entry\n",
    "print(jobList[3])"
   ]
  },
  {
   "cell_type": "markdown",
   "id": "f54ef3b8",
   "metadata": {},
   "source": [
    "The second step is to insert the data into the `tmJobs` collection. Existing data must be removed beforehand in order to avoid duplicates."
   ]
  },
  {
   "cell_type": "code",
   "execution_count": 70,
   "id": "9b2272d5",
   "metadata": {},
   "outputs": [
    {
     "data": {
      "text/plain": [
       "<pymongo.results.InsertManyResult at 0x225ad68c040>"
      ]
     },
     "execution_count": 70,
     "metadata": {},
     "output_type": "execute_result"
    }
   ],
   "source": [
    "# delete old data\n",
    "db.tmJobs.delete_many({})\n",
    "\n",
    "# insert new data\n",
    "db.tmJobs.insert_many(jobList)"
   ]
  },
  {
   "cell_type": "code",
   "execution_count": null,
   "id": "825a5d7b",
   "metadata": {},
   "outputs": [],
   "source": []
  }
 ],
 "metadata": {
  "kernelspec": {
   "display_name": "Python 3 (ipykernel)",
   "language": "python",
   "name": "python3"
  },
  "language_info": {
   "codemirror_mode": {
    "name": "ipython",
    "version": 3
   },
   "file_extension": ".py",
   "mimetype": "text/x-python",
   "name": "python",
   "nbconvert_exporter": "python",
   "pygments_lexer": "ipython3",
   "version": "3.10.2"
  },
  "toc": {
   "base_numbering": 1,
   "nav_menu": {},
   "number_sections": true,
   "sideBar": true,
   "skip_h1_title": false,
   "title_cell": "Table of Contents",
   "title_sidebar": "Contents",
   "toc_cell": false,
   "toc_position": {
    "height": "calc(100% - 180px)",
    "left": "10px",
    "top": "150px",
    "width": "171.333px"
   },
   "toc_section_display": true,
   "toc_window_display": true
  }
 },
 "nbformat": 4,
 "nbformat_minor": 5
}
